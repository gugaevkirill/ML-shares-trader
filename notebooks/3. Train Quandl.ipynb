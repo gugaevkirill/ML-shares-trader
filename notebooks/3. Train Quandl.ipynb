{
 "cells": [
  {
   "cell_type": "code",
   "execution_count": 1,
   "id": "81987863",
   "metadata": {
    "ExecuteTime": {
     "end_time": "2021-07-26T19:18:57.555694Z",
     "start_time": "2021-07-26T19:18:57.549265Z"
    }
   },
   "outputs": [],
   "source": [
    "import os, sys\n",
    "sys.path.insert(0, os.path.dirname(os.getcwd())) "
   ]
  },
  {
   "cell_type": "code",
   "execution_count": 2,
   "id": "3aa4734d",
   "metadata": {
    "ExecuteTime": {
     "end_time": "2021-07-26T19:18:58.186130Z",
     "start_time": "2021-07-26T19:18:57.557168Z"
    }
   },
   "outputs": [
    {
     "name": "stdout",
     "output_type": "stream",
     "text": [
      "%cache magic is now registered in ipython\n"
     ]
    }
   ],
   "source": [
    "import cache_magic\n",
    "import hashlib\n",
    "from typing import List, Union, Dict, Any\n",
    "from tqdm import tqdm\n",
    "import pandas as pd\n",
    "import numpy as np\n",
    "import multiprocessing\n",
    "from concurrent.futures import ProcessPoolExecutor\n",
    "\n",
    "from xgboost import XGBRegressor\n",
    "import lightgbm as lgbm\n",
    "\n",
    "from ml_trader.utils import load_config\n",
    "from ml_trader.data_loaders.quandl import (quandl_base_to_df,\n",
    "                                           quandl_quarterly_to_df,\n",
    "                                           quandl_daily_to_df,\n",
    "                                           quandl_commodity_to_df)\n",
    "from ml_trader.model import LogExpModel, EnsembleModel\n",
    "from ml_trader.features import (MAX_BACK_QUARTER,\n",
    "                                MIN_BACK_QUARTER,\n",
    "                                QUARTER_WINDOWS,\n",
    "                                QUARTER_COLUMNS,\n",
    "                                DAILY_WINDOWS,\n",
    "                                DAILY_AGG_COLUMNS,\n",
    "                                compute_df_quarterly_ticker,\n",
    "                                compute_df_daily_ticker)"
   ]
  },
  {
   "cell_type": "code",
   "execution_count": 3,
   "id": "096e07b3",
   "metadata": {
    "ExecuteTime": {
     "end_time": "2021-07-26T19:18:58.190713Z",
     "start_time": "2021-07-26T19:18:58.186801Z"
    }
   },
   "outputs": [
    {
     "data": {
      "text/plain": [
       "8"
      ]
     },
     "execution_count": 3,
     "metadata": {},
     "output_type": "execute_result"
    }
   ],
   "source": [
    "CPU_COUNT = multiprocessing.cpu_count()\n",
    "CPU_COUNT"
   ]
  },
  {
   "cell_type": "code",
   "execution_count": 4,
   "id": "5e0eb476",
   "metadata": {
    "ExecuteTime": {
     "end_time": "2021-07-26T19:18:58.194573Z",
     "start_time": "2021-07-26T19:18:58.191975Z"
    }
   },
   "outputs": [
    {
     "name": "stdout",
     "output_type": "stream",
     "text": [
      "resetting entire cache\n"
     ]
    }
   ],
   "source": [
    "# %cache --reset"
   ]
  },
  {
   "cell_type": "code",
   "execution_count": 5,
   "id": "4cda127c",
   "metadata": {
    "ExecuteTime": {
     "end_time": "2021-07-26T19:18:58.197890Z",
     "start_time": "2021-07-26T19:18:58.195306Z"
    }
   },
   "outputs": [
    {
     "data": {
      "text/plain": [
       "(1492,\n",
       " ['ZI', 'HALO', 'WGO', 'VIPS', 'OSK', 'MAC', 'BJRI', 'HCCI', 'HSC', 'ANAB'])"
      ]
     },
     "execution_count": 5,
     "metadata": {},
     "output_type": "execute_result"
    }
   ],
   "source": [
    "config = load_config()\n",
    "tickers = config[\"tickers_quandl\"]\n",
    "len(tickers), tickers[:10]"
   ]
  },
  {
   "cell_type": "markdown",
   "id": "e25b9a2c",
   "metadata": {},
   "source": [
    "## Base Features"
   ]
  },
  {
   "cell_type": "code",
   "execution_count": 6,
   "id": "10afeebc",
   "metadata": {
    "ExecuteTime": {
     "end_time": "2021-07-26T19:18:58.387846Z",
     "start_time": "2021-07-26T19:18:58.198523Z"
    }
   },
   "outputs": [
    {
     "data": {
      "text/html": [
       "<div>\n",
       "<style scoped>\n",
       "    .dataframe tbody tr th:only-of-type {\n",
       "        vertical-align: middle;\n",
       "    }\n",
       "\n",
       "    .dataframe tbody tr th {\n",
       "        vertical-align: top;\n",
       "    }\n",
       "\n",
       "    .dataframe thead th {\n",
       "        text-align: right;\n",
       "    }\n",
       "</style>\n",
       "<table border=\"1\" class=\"dataframe\">\n",
       "  <thead>\n",
       "    <tr style=\"text-align: right;\">\n",
       "      <th></th>\n",
       "      <th>table</th>\n",
       "      <th>permaticker</th>\n",
       "      <th>ticker</th>\n",
       "      <th>name</th>\n",
       "      <th>exchange</th>\n",
       "      <th>isdelisted</th>\n",
       "      <th>category</th>\n",
       "      <th>cusips</th>\n",
       "      <th>siccode</th>\n",
       "      <th>sicsector</th>\n",
       "      <th>...</th>\n",
       "      <th>currency</th>\n",
       "      <th>location</th>\n",
       "      <th>lastupdated</th>\n",
       "      <th>firstadded</th>\n",
       "      <th>firstpricedate</th>\n",
       "      <th>lastpricedate</th>\n",
       "      <th>firstquarter</th>\n",
       "      <th>lastquarter</th>\n",
       "      <th>secfilings</th>\n",
       "      <th>companysite</th>\n",
       "    </tr>\n",
       "  </thead>\n",
       "  <tbody>\n",
       "    <tr>\n",
       "      <th>0</th>\n",
       "      <td>SF1</td>\n",
       "      <td>196290</td>\n",
       "      <td>A</td>\n",
       "      <td>Agilent Technologies Inc</td>\n",
       "      <td>NYSE</td>\n",
       "      <td>N</td>\n",
       "      <td>Domestic Common Stock</td>\n",
       "      <td>00846U101</td>\n",
       "      <td>3826.0</td>\n",
       "      <td>Manufacturing</td>\n",
       "      <td>...</td>\n",
       "      <td>USD</td>\n",
       "      <td>California; U.S.A</td>\n",
       "      <td>2021-06-01</td>\n",
       "      <td>2014-09-26</td>\n",
       "      <td>1999-11-18</td>\n",
       "      <td>2021-07-21</td>\n",
       "      <td>1997-06-30</td>\n",
       "      <td>2021-03-31</td>\n",
       "      <td>https://www.sec.gov/cgi-bin/browse-edgar?actio...</td>\n",
       "      <td>http://www.agilent.com</td>\n",
       "    </tr>\n",
       "    <tr>\n",
       "      <th>1</th>\n",
       "      <td>SF1</td>\n",
       "      <td>124392</td>\n",
       "      <td>AA</td>\n",
       "      <td>Alcoa Corp</td>\n",
       "      <td>NYSE</td>\n",
       "      <td>N</td>\n",
       "      <td>Domestic Common Stock</td>\n",
       "      <td>013872106</td>\n",
       "      <td>3334.0</td>\n",
       "      <td>Manufacturing</td>\n",
       "      <td>...</td>\n",
       "      <td>USD</td>\n",
       "      <td>Pennsylvania; U.S.A</td>\n",
       "      <td>2021-05-05</td>\n",
       "      <td>2016-11-01</td>\n",
       "      <td>2016-11-01</td>\n",
       "      <td>2021-07-21</td>\n",
       "      <td>2014-12-31</td>\n",
       "      <td>2021-03-31</td>\n",
       "      <td>https://www.sec.gov/cgi-bin/browse-edgar?actio...</td>\n",
       "      <td>http://www.alcoa.com</td>\n",
       "    </tr>\n",
       "    <tr>\n",
       "      <th>2</th>\n",
       "      <td>SF1</td>\n",
       "      <td>199960</td>\n",
       "      <td>AAL</td>\n",
       "      <td>American Airlines Group Inc</td>\n",
       "      <td>NASDAQ</td>\n",
       "      <td>N</td>\n",
       "      <td>Domestic Common Stock</td>\n",
       "      <td>02376R102</td>\n",
       "      <td>4512.0</td>\n",
       "      <td>Transportation Communications Electric Gas And...</td>\n",
       "      <td>...</td>\n",
       "      <td>USD</td>\n",
       "      <td>Texas; U.S.A</td>\n",
       "      <td>2021-04-22</td>\n",
       "      <td>2015-04-14</td>\n",
       "      <td>2013-12-09</td>\n",
       "      <td>2021-07-21</td>\n",
       "      <td>2012-12-31</td>\n",
       "      <td>2021-03-31</td>\n",
       "      <td>https://www.sec.gov/cgi-bin/browse-edgar?actio...</td>\n",
       "      <td>http://www.aa.com</td>\n",
       "    </tr>\n",
       "    <tr>\n",
       "      <th>3</th>\n",
       "      <td>SF1</td>\n",
       "      <td>632687</td>\n",
       "      <td>AAN</td>\n",
       "      <td>Aaron's Company Inc</td>\n",
       "      <td>NYSE</td>\n",
       "      <td>N</td>\n",
       "      <td>Domestic Common Stock</td>\n",
       "      <td>00258W108</td>\n",
       "      <td>7359.0</td>\n",
       "      <td>Services</td>\n",
       "      <td>...</td>\n",
       "      <td>USD</td>\n",
       "      <td>Georgia; U.S.A</td>\n",
       "      <td>2021-05-02</td>\n",
       "      <td>2020-12-02</td>\n",
       "      <td>2020-11-25</td>\n",
       "      <td>2021-07-21</td>\n",
       "      <td>2018-12-31</td>\n",
       "      <td>2021-03-31</td>\n",
       "      <td>https://www.sec.gov/cgi-bin/browse-edgar?actio...</td>\n",
       "      <td>NaN</td>\n",
       "    </tr>\n",
       "    <tr>\n",
       "      <th>4</th>\n",
       "      <td>SF1</td>\n",
       "      <td>198259</td>\n",
       "      <td>AAON</td>\n",
       "      <td>Aaon Inc</td>\n",
       "      <td>NASDAQ</td>\n",
       "      <td>N</td>\n",
       "      <td>Domestic Common Stock</td>\n",
       "      <td>000360206</td>\n",
       "      <td>3585.0</td>\n",
       "      <td>Manufacturing</td>\n",
       "      <td>...</td>\n",
       "      <td>USD</td>\n",
       "      <td>Oklahoma; U.S.A</td>\n",
       "      <td>2021-05-06</td>\n",
       "      <td>2014-10-14</td>\n",
       "      <td>1992-12-16</td>\n",
       "      <td>2021-07-21</td>\n",
       "      <td>1996-12-31</td>\n",
       "      <td>2021-03-31</td>\n",
       "      <td>https://www.sec.gov/cgi-bin/browse-edgar?actio...</td>\n",
       "      <td>http://www.aaon.com</td>\n",
       "    </tr>\n",
       "  </tbody>\n",
       "</table>\n",
       "<p>5 rows × 28 columns</p>\n",
       "</div>"
      ],
      "text/plain": [
       "  table  permaticker ticker                         name exchange isdelisted  \\\n",
       "0   SF1       196290      A     Agilent Technologies Inc     NYSE          N   \n",
       "1   SF1       124392     AA                   Alcoa Corp     NYSE          N   \n",
       "2   SF1       199960    AAL  American Airlines Group Inc   NASDAQ          N   \n",
       "3   SF1       632687    AAN          Aaron's Company Inc     NYSE          N   \n",
       "4   SF1       198259   AAON                     Aaon Inc   NASDAQ          N   \n",
       "\n",
       "                category     cusips  siccode  \\\n",
       "0  Domestic Common Stock  00846U101   3826.0   \n",
       "1  Domestic Common Stock  013872106   3334.0   \n",
       "2  Domestic Common Stock  02376R102   4512.0   \n",
       "3  Domestic Common Stock  00258W108   7359.0   \n",
       "4  Domestic Common Stock  000360206   3585.0   \n",
       "\n",
       "                                           sicsector  ... currency  \\\n",
       "0                                      Manufacturing  ...      USD   \n",
       "1                                      Manufacturing  ...      USD   \n",
       "2  Transportation Communications Electric Gas And...  ...      USD   \n",
       "3                                           Services  ...      USD   \n",
       "4                                      Manufacturing  ...      USD   \n",
       "\n",
       "              location lastupdated  firstadded firstpricedate lastpricedate  \\\n",
       "0    California; U.S.A  2021-06-01  2014-09-26     1999-11-18    2021-07-21   \n",
       "1  Pennsylvania; U.S.A  2021-05-05  2016-11-01     2016-11-01    2021-07-21   \n",
       "2         Texas; U.S.A  2021-04-22  2015-04-14     2013-12-09    2021-07-21   \n",
       "3       Georgia; U.S.A  2021-05-02  2020-12-02     2020-11-25    2021-07-21   \n",
       "4      Oklahoma; U.S.A  2021-05-06  2014-10-14     1992-12-16    2021-07-21   \n",
       "\n",
       "  firstquarter lastquarter                                         secfilings  \\\n",
       "0   1997-06-30  2021-03-31  https://www.sec.gov/cgi-bin/browse-edgar?actio...   \n",
       "1   2014-12-31  2021-03-31  https://www.sec.gov/cgi-bin/browse-edgar?actio...   \n",
       "2   2012-12-31  2021-03-31  https://www.sec.gov/cgi-bin/browse-edgar?actio...   \n",
       "3   2018-12-31  2021-03-31  https://www.sec.gov/cgi-bin/browse-edgar?actio...   \n",
       "4   1996-12-31  2021-03-31  https://www.sec.gov/cgi-bin/browse-edgar?actio...   \n",
       "\n",
       "              companysite  \n",
       "0  http://www.agilent.com  \n",
       "1    http://www.alcoa.com  \n",
       "2       http://www.aa.com  \n",
       "3                     NaN  \n",
       "4     http://www.aaon.com  \n",
       "\n",
       "[5 rows x 28 columns]"
      ]
     },
     "execution_count": 6,
     "metadata": {},
     "output_type": "execute_result"
    }
   ],
   "source": [
    "df_base = quandl_base_to_df(\n",
    "    filepath=os.path.dirname(os.getcwd()) + '/datasets/quandl/SHARADAR_TICKERS_6cc728d11002ab9cb99aa8654a6b9f4e.csv',\n",
    "    tickers=tickers,\n",
    ")\n",
    "df_base.head()"
   ]
  },
  {
   "cell_type": "code",
   "execution_count": 7,
   "id": "677702b3",
   "metadata": {
    "ExecuteTime": {
     "end_time": "2021-07-26T19:18:58.390811Z",
     "start_time": "2021-07-26T19:18:58.388630Z"
    }
   },
   "outputs": [
    {
     "data": {
      "text/plain": [
       "2645911594"
      ]
     },
     "execution_count": 7,
     "metadata": {},
     "output_type": "execute_result"
    }
   ],
   "source": [
    "def int_hash_of_str(text: str) -> int:\n",
    "    return int(hashlib.md5(text.encode('utf-8')).hexdigest()[:8], 16)\n",
    "\n",
    "int_hash_of_str('Some text')"
   ]
  },
  {
   "cell_type": "code",
   "execution_count": 8,
   "id": "077f6b91",
   "metadata": {
    "ExecuteTime": {
     "end_time": "2021-07-26T19:18:58.394482Z",
     "start_time": "2021-07-26T19:18:58.391381Z"
    }
   },
   "outputs": [
    {
     "data": {
      "text/plain": [
       "[1616376124, 1631623841]"
      ]
     },
     "execution_count": 8,
     "metadata": {},
     "output_type": "execute_result"
    }
   ],
   "source": [
    "class RobustHashingEncoder:\n",
    "    def transform(self, vals: List[str]):\n",
    "        result = [int_hash_of_str(str(x)) for x in vals]\n",
    "        return result\n",
    "\n",
    "RobustHashingEncoder().transform(['hey', 'John'])"
   ]
  },
  {
   "cell_type": "code",
   "execution_count": 9,
   "id": "db88d9f2",
   "metadata": {
    "ExecuteTime": {
     "end_time": "2021-07-26T19:18:58.397727Z",
     "start_time": "2021-07-26T19:18:58.395466Z"
    }
   },
   "outputs": [
    {
     "data": {
      "text/plain": [
       "11"
      ]
     },
     "execution_count": 9,
     "metadata": {},
     "output_type": "execute_result"
    }
   ],
   "source": [
    "len(df_base['sector'].unique())"
   ]
  },
  {
   "cell_type": "code",
   "execution_count": 10,
   "id": "19be9ab6",
   "metadata": {
    "ExecuteTime": {
     "end_time": "2021-07-26T19:18:58.401924Z",
     "start_time": "2021-07-26T19:18:58.399698Z"
    }
   },
   "outputs": [
    {
     "data": {
      "text/plain": [
       "307"
      ]
     },
     "execution_count": 10,
     "metadata": {},
     "output_type": "execute_result"
    }
   ],
   "source": [
    "len(df_base['sicindustry'].unique())"
   ]
  },
  {
   "cell_type": "code",
   "execution_count": 11,
   "id": "8b416790",
   "metadata": {
    "ExecuteTime": {
     "end_time": "2021-07-26T19:18:58.413625Z",
     "start_time": "2021-07-26T19:18:58.402552Z"
    }
   },
   "outputs": [
    {
     "data": {
      "text/html": [
       "<div>\n",
       "<style scoped>\n",
       "    .dataframe tbody tr th:only-of-type {\n",
       "        vertical-align: middle;\n",
       "    }\n",
       "\n",
       "    .dataframe tbody tr th {\n",
       "        vertical-align: top;\n",
       "    }\n",
       "\n",
       "    .dataframe thead th {\n",
       "        text-align: right;\n",
       "    }\n",
       "</style>\n",
       "<table border=\"1\" class=\"dataframe\">\n",
       "  <thead>\n",
       "    <tr style=\"text-align: right;\">\n",
       "      <th></th>\n",
       "      <th>sector</th>\n",
       "      <th>sicindustry</th>\n",
       "    </tr>\n",
       "    <tr>\n",
       "      <th>ticker</th>\n",
       "      <th></th>\n",
       "      <th></th>\n",
       "    </tr>\n",
       "  </thead>\n",
       "  <tbody>\n",
       "    <tr>\n",
       "      <th>A</th>\n",
       "      <td>1323476679</td>\n",
       "      <td>262192036</td>\n",
       "    </tr>\n",
       "    <tr>\n",
       "      <th>AA</th>\n",
       "      <td>3574770013</td>\n",
       "      <td>3133277726</td>\n",
       "    </tr>\n",
       "    <tr>\n",
       "      <th>AAL</th>\n",
       "      <td>4234451709</td>\n",
       "      <td>970993397</td>\n",
       "    </tr>\n",
       "    <tr>\n",
       "      <th>AAN</th>\n",
       "      <td>2619316219</td>\n",
       "      <td>3235711193</td>\n",
       "    </tr>\n",
       "    <tr>\n",
       "      <th>AAON</th>\n",
       "      <td>3574770013</td>\n",
       "      <td>1976331230</td>\n",
       "    </tr>\n",
       "    <tr>\n",
       "      <th>...</th>\n",
       "      <td>...</td>\n",
       "      <td>...</td>\n",
       "    </tr>\n",
       "    <tr>\n",
       "      <th>ZUMZ</th>\n",
       "      <td>2619316219</td>\n",
       "      <td>3693376755</td>\n",
       "    </tr>\n",
       "    <tr>\n",
       "      <th>ZUO</th>\n",
       "      <td>3890702295</td>\n",
       "      <td>3522964152</td>\n",
       "    </tr>\n",
       "    <tr>\n",
       "      <th>ZY</th>\n",
       "      <td>3574770013</td>\n",
       "      <td>491461314</td>\n",
       "    </tr>\n",
       "    <tr>\n",
       "      <th>ZYNE</th>\n",
       "      <td>1323476679</td>\n",
       "      <td>762821215</td>\n",
       "    </tr>\n",
       "    <tr>\n",
       "      <th>ZYXI</th>\n",
       "      <td>1323476679</td>\n",
       "      <td>644538336</td>\n",
       "    </tr>\n",
       "  </tbody>\n",
       "</table>\n",
       "<p>1492 rows × 2 columns</p>\n",
       "</div>"
      ],
      "text/plain": [
       "            sector  sicindustry\n",
       "ticker                         \n",
       "A       1323476679    262192036\n",
       "AA      3574770013   3133277726\n",
       "AAL     4234451709    970993397\n",
       "AAN     2619316219   3235711193\n",
       "AAON    3574770013   1976331230\n",
       "...            ...          ...\n",
       "ZUMZ    2619316219   3693376755\n",
       "ZUO     3890702295   3522964152\n",
       "ZY      3574770013    491461314\n",
       "ZYNE    1323476679    762821215\n",
       "ZYXI    1323476679    644538336\n",
       "\n",
       "[1492 rows x 2 columns]"
      ]
     },
     "execution_count": 11,
     "metadata": {},
     "output_type": "execute_result"
    }
   ],
   "source": [
    "for col in ['sector', 'sicindustry']:\n",
    "    df_base[col] = df_base[col].fillna('None')\n",
    "    df_base[col] = RobustHashingEncoder().transform(df_base[col])\n",
    "\n",
    "df_base_p = df_base[['ticker', 'sector', 'sicindustry']]\n",
    "df_base_p = df_base_p.set_index(['ticker'])\n",
    "df_base_p"
   ]
  },
  {
   "cell_type": "markdown",
   "id": "5eef390e",
   "metadata": {},
   "source": [
    "## Quarterly Features"
   ]
  },
  {
   "cell_type": "code",
   "execution_count": 12,
   "id": "6629683c",
   "metadata": {
    "ExecuteTime": {
     "end_time": "2021-07-26T19:19:06.421293Z",
     "start_time": "2021-07-26T19:18:58.414392Z"
    }
   },
   "outputs": [
    {
     "data": {
      "text/html": [
       "<div>\n",
       "<style scoped>\n",
       "    .dataframe tbody tr th:only-of-type {\n",
       "        vertical-align: middle;\n",
       "    }\n",
       "\n",
       "    .dataframe tbody tr th {\n",
       "        vertical-align: top;\n",
       "    }\n",
       "\n",
       "    .dataframe thead th {\n",
       "        text-align: right;\n",
       "    }\n",
       "</style>\n",
       "<table border=\"1\" class=\"dataframe\">\n",
       "  <thead>\n",
       "    <tr style=\"text-align: right;\">\n",
       "      <th></th>\n",
       "      <th>ticker</th>\n",
       "      <th>dimension</th>\n",
       "      <th>calendardate</th>\n",
       "      <th>reportperiod</th>\n",
       "      <th>lastupdated</th>\n",
       "      <th>accoci</th>\n",
       "      <th>assets</th>\n",
       "      <th>assetsavg</th>\n",
       "      <th>assetsc</th>\n",
       "      <th>assetsnc</th>\n",
       "      <th>...</th>\n",
       "      <th>shareswa</th>\n",
       "      <th>shareswadil</th>\n",
       "      <th>sps</th>\n",
       "      <th>tangibles</th>\n",
       "      <th>taxassets</th>\n",
       "      <th>taxexp</th>\n",
       "      <th>taxliabilities</th>\n",
       "      <th>tbvps</th>\n",
       "      <th>workingcapital</th>\n",
       "      <th>date</th>\n",
       "    </tr>\n",
       "  </thead>\n",
       "  <tbody>\n",
       "    <tr>\n",
       "      <th>8993</th>\n",
       "      <td>ZYXI</td>\n",
       "      <td>ARQ</td>\n",
       "      <td>2021-03-31</td>\n",
       "      <td>2021-03-31</td>\n",
       "      <td>2021-04-30</td>\n",
       "      <td>0.0</td>\n",
       "      <td>70236000.0</td>\n",
       "      <td>NaN</td>\n",
       "      <td>60829000.0</td>\n",
       "      <td>9407000.0</td>\n",
       "      <td>...</td>\n",
       "      <td>34837000.0</td>\n",
       "      <td>34837000.0</td>\n",
       "      <td>0.693</td>\n",
       "      <td>70236000.0</td>\n",
       "      <td>931000.0</td>\n",
       "      <td>-384000.0</td>\n",
       "      <td>266000.0</td>\n",
       "      <td>2.016</td>\n",
       "      <td>51514000.0</td>\n",
       "      <td>2021-04-29</td>\n",
       "    </tr>\n",
       "    <tr>\n",
       "      <th>8994</th>\n",
       "      <td>ZYXI</td>\n",
       "      <td>ARQ</td>\n",
       "      <td>2020-12-31</td>\n",
       "      <td>2020-12-31</td>\n",
       "      <td>2021-04-30</td>\n",
       "      <td>0.0</td>\n",
       "      <td>72175000.0</td>\n",
       "      <td>NaN</td>\n",
       "      <td>63023000.0</td>\n",
       "      <td>9152000.0</td>\n",
       "      <td>...</td>\n",
       "      <td>34784000.0</td>\n",
       "      <td>35627000.0</td>\n",
       "      <td>0.736</td>\n",
       "      <td>72175000.0</td>\n",
       "      <td>566000.0</td>\n",
       "      <td>428000.0</td>\n",
       "      <td>280000.0</td>\n",
       "      <td>2.075</td>\n",
       "      <td>52906000.0</td>\n",
       "      <td>2021-02-25</td>\n",
       "    </tr>\n",
       "    <tr>\n",
       "      <th>8995</th>\n",
       "      <td>ZYXI</td>\n",
       "      <td>ARQ</td>\n",
       "      <td>2020-09-30</td>\n",
       "      <td>2020-09-30</td>\n",
       "      <td>2021-04-30</td>\n",
       "      <td>0.0</td>\n",
       "      <td>64965000.0</td>\n",
       "      <td>NaN</td>\n",
       "      <td>57553000.0</td>\n",
       "      <td>7412000.0</td>\n",
       "      <td>...</td>\n",
       "      <td>34486000.0</td>\n",
       "      <td>35476000.0</td>\n",
       "      <td>0.581</td>\n",
       "      <td>64965000.0</td>\n",
       "      <td>985000.0</td>\n",
       "      <td>71000.0</td>\n",
       "      <td>429000.0</td>\n",
       "      <td>1.884</td>\n",
       "      <td>50258000.0</td>\n",
       "      <td>2020-10-27</td>\n",
       "    </tr>\n",
       "    <tr>\n",
       "      <th>8996</th>\n",
       "      <td>ZYXI</td>\n",
       "      <td>ARQ</td>\n",
       "      <td>2020-06-30</td>\n",
       "      <td>2020-06-30</td>\n",
       "      <td>2021-04-30</td>\n",
       "      <td>0.0</td>\n",
       "      <td>36759000.0</td>\n",
       "      <td>NaN</td>\n",
       "      <td>29833000.0</td>\n",
       "      <td>6926000.0</td>\n",
       "      <td>...</td>\n",
       "      <td>33283000.0</td>\n",
       "      <td>34454000.0</td>\n",
       "      <td>0.579</td>\n",
       "      <td>36759000.0</td>\n",
       "      <td>545000.0</td>\n",
       "      <td>1063000.0</td>\n",
       "      <td>0.0</td>\n",
       "      <td>1.104</td>\n",
       "      <td>23813000.0</td>\n",
       "      <td>2020-07-28</td>\n",
       "    </tr>\n",
       "    <tr>\n",
       "      <th>8997</th>\n",
       "      <td>ZYXI</td>\n",
       "      <td>ARQ</td>\n",
       "      <td>2020-03-31</td>\n",
       "      <td>2020-03-31</td>\n",
       "      <td>2021-04-30</td>\n",
       "      <td>0.0</td>\n",
       "      <td>33222000.0</td>\n",
       "      <td>NaN</td>\n",
       "      <td>25698000.0</td>\n",
       "      <td>7524000.0</td>\n",
       "      <td>...</td>\n",
       "      <td>32913000.0</td>\n",
       "      <td>34204000.0</td>\n",
       "      <td>0.463</td>\n",
       "      <td>33222000.0</td>\n",
       "      <td>985000.0</td>\n",
       "      <td>-483000.0</td>\n",
       "      <td>39000.0</td>\n",
       "      <td>1.009</td>\n",
       "      <td>19864000.0</td>\n",
       "      <td>2020-04-28</td>\n",
       "    </tr>\n",
       "  </tbody>\n",
       "</table>\n",
       "<p>5 rows × 111 columns</p>\n",
       "</div>"
      ],
      "text/plain": [
       "     ticker dimension calendardate reportperiod lastupdated  accoci  \\\n",
       "8993   ZYXI       ARQ   2021-03-31   2021-03-31  2021-04-30     0.0   \n",
       "8994   ZYXI       ARQ   2020-12-31   2020-12-31  2021-04-30     0.0   \n",
       "8995   ZYXI       ARQ   2020-09-30   2020-09-30  2021-04-30     0.0   \n",
       "8996   ZYXI       ARQ   2020-06-30   2020-06-30  2021-04-30     0.0   \n",
       "8997   ZYXI       ARQ   2020-03-31   2020-03-31  2021-04-30     0.0   \n",
       "\n",
       "          assets  assetsavg     assetsc   assetsnc  ...    shareswa  \\\n",
       "8993  70236000.0        NaN  60829000.0  9407000.0  ...  34837000.0   \n",
       "8994  72175000.0        NaN  63023000.0  9152000.0  ...  34784000.0   \n",
       "8995  64965000.0        NaN  57553000.0  7412000.0  ...  34486000.0   \n",
       "8996  36759000.0        NaN  29833000.0  6926000.0  ...  33283000.0   \n",
       "8997  33222000.0        NaN  25698000.0  7524000.0  ...  32913000.0   \n",
       "\n",
       "      shareswadil    sps   tangibles  taxassets     taxexp  taxliabilities  \\\n",
       "8993   34837000.0  0.693  70236000.0   931000.0  -384000.0        266000.0   \n",
       "8994   35627000.0  0.736  72175000.0   566000.0   428000.0        280000.0   \n",
       "8995   35476000.0  0.581  64965000.0   985000.0    71000.0        429000.0   \n",
       "8996   34454000.0  0.579  36759000.0   545000.0  1063000.0             0.0   \n",
       "8997   34204000.0  0.463  33222000.0   985000.0  -483000.0         39000.0   \n",
       "\n",
       "      tbvps  workingcapital       date  \n",
       "8993  2.016      51514000.0 2021-04-29  \n",
       "8994  2.075      52906000.0 2021-02-25  \n",
       "8995  1.884      50258000.0 2020-10-27  \n",
       "8996  1.104      23813000.0 2020-07-28  \n",
       "8997  1.009      19864000.0 2020-04-28  \n",
       "\n",
       "[5 rows x 111 columns]"
      ]
     },
     "execution_count": 12,
     "metadata": {},
     "output_type": "execute_result"
    }
   ],
   "source": [
    "df_quarterly = quandl_quarterly_to_df(\n",
    "    base_path=os.path.dirname(os.getcwd()) + '/datasets/quandl/quarterly',\n",
    "    tickers=tickers,\n",
    ")\n",
    "df_quarterly = df_quarterly.sort_values(by=['ticker', 'date'], ascending=False)\n",
    "df_quarterly.head()"
   ]
  },
  {
   "cell_type": "code",
   "execution_count": 13,
   "id": "89e28fe5",
   "metadata": {
    "ExecuteTime": {
     "end_time": "2021-07-26T19:19:06.423303Z",
     "start_time": "2021-07-26T19:19:06.421952Z"
    }
   },
   "outputs": [],
   "source": [
    "ticker = 'AAPL'"
   ]
  },
  {
   "cell_type": "code",
   "execution_count": 14,
   "id": "f2fba51f",
   "metadata": {
    "ExecuteTime": {
     "end_time": "2021-07-26T19:19:06.448695Z",
     "start_time": "2021-07-26T19:19:06.424640Z"
    }
   },
   "outputs": [
    {
     "data": {
      "text/html": [
       "<div>\n",
       "<style scoped>\n",
       "    .dataframe tbody tr th:only-of-type {\n",
       "        vertical-align: middle;\n",
       "    }\n",
       "\n",
       "    .dataframe tbody tr th {\n",
       "        vertical-align: top;\n",
       "    }\n",
       "\n",
       "    .dataframe thead th {\n",
       "        text-align: right;\n",
       "    }\n",
       "</style>\n",
       "<table border=\"1\" class=\"dataframe\">\n",
       "  <thead>\n",
       "    <tr style=\"text-align: right;\">\n",
       "      <th></th>\n",
       "      <th>ticker</th>\n",
       "      <th>dimension</th>\n",
       "      <th>calendardate</th>\n",
       "      <th>reportperiod</th>\n",
       "      <th>lastupdated</th>\n",
       "      <th>accoci</th>\n",
       "      <th>assets</th>\n",
       "      <th>assetsavg</th>\n",
       "      <th>assetsc</th>\n",
       "      <th>assetsnc</th>\n",
       "      <th>...</th>\n",
       "      <th>shareswa</th>\n",
       "      <th>shareswadil</th>\n",
       "      <th>sps</th>\n",
       "      <th>tangibles</th>\n",
       "      <th>taxassets</th>\n",
       "      <th>taxexp</th>\n",
       "      <th>taxliabilities</th>\n",
       "      <th>tbvps</th>\n",
       "      <th>workingcapital</th>\n",
       "      <th>date</th>\n",
       "    </tr>\n",
       "  </thead>\n",
       "  <tbody>\n",
       "    <tr>\n",
       "      <th>5210</th>\n",
       "      <td>AAPL</td>\n",
       "      <td>ARQ</td>\n",
       "      <td>2021-03-31</td>\n",
       "      <td>2021-03-27</td>\n",
       "      <td>2021-04-29</td>\n",
       "      <td>-2.860000e+08</td>\n",
       "      <td>3.371580e+11</td>\n",
       "      <td>NaN</td>\n",
       "      <td>1.214650e+11</td>\n",
       "      <td>2.156930e+11</td>\n",
       "      <td>...</td>\n",
       "      <td>1.675348e+10</td>\n",
       "      <td>1.692916e+10</td>\n",
       "      <td>5.347</td>\n",
       "      <td>3.371580e+11</td>\n",
       "      <td>0.0</td>\n",
       "      <td>4.381000e+09</td>\n",
       "      <td>0.0</td>\n",
       "      <td>20.125</td>\n",
       "      <td>1.508000e+10</td>\n",
       "      <td>2021-04-29</td>\n",
       "    </tr>\n",
       "    <tr>\n",
       "      <th>5211</th>\n",
       "      <td>AAPL</td>\n",
       "      <td>ARQ</td>\n",
       "      <td>2020-12-31</td>\n",
       "      <td>2020-12-26</td>\n",
       "      <td>2021-04-29</td>\n",
       "      <td>1.790000e+08</td>\n",
       "      <td>3.540540e+11</td>\n",
       "      <td>NaN</td>\n",
       "      <td>1.541060e+11</td>\n",
       "      <td>1.999480e+11</td>\n",
       "      <td>...</td>\n",
       "      <td>1.693512e+10</td>\n",
       "      <td>1.711369e+10</td>\n",
       "      <td>6.580</td>\n",
       "      <td>3.540540e+11</td>\n",
       "      <td>0.0</td>\n",
       "      <td>4.824000e+09</td>\n",
       "      <td>0.0</td>\n",
       "      <td>20.906</td>\n",
       "      <td>2.159900e+10</td>\n",
       "      <td>2021-01-28</td>\n",
       "    </tr>\n",
       "    <tr>\n",
       "      <th>5212</th>\n",
       "      <td>AAPL</td>\n",
       "      <td>ARQ</td>\n",
       "      <td>2020-09-30</td>\n",
       "      <td>2020-09-26</td>\n",
       "      <td>2021-04-29</td>\n",
       "      <td>-4.060000e+08</td>\n",
       "      <td>3.238880e+11</td>\n",
       "      <td>NaN</td>\n",
       "      <td>1.437130e+11</td>\n",
       "      <td>1.801750e+11</td>\n",
       "      <td>...</td>\n",
       "      <td>1.705762e+10</td>\n",
       "      <td>1.725652e+10</td>\n",
       "      <td>3.793</td>\n",
       "      <td>3.238880e+11</td>\n",
       "      <td>0.0</td>\n",
       "      <td>2.228000e+09</td>\n",
       "      <td>0.0</td>\n",
       "      <td>18.988</td>\n",
       "      <td>3.832100e+10</td>\n",
       "      <td>2020-10-30</td>\n",
       "    </tr>\n",
       "    <tr>\n",
       "      <th>5213</th>\n",
       "      <td>AAPL</td>\n",
       "      <td>ARQ</td>\n",
       "      <td>2020-06-30</td>\n",
       "      <td>2020-06-27</td>\n",
       "      <td>2021-04-29</td>\n",
       "      <td>-5.500000e+08</td>\n",
       "      <td>3.173440e+11</td>\n",
       "      <td>NaN</td>\n",
       "      <td>1.400650e+11</td>\n",
       "      <td>1.772790e+11</td>\n",
       "      <td>...</td>\n",
       "      <td>1.725029e+10</td>\n",
       "      <td>1.741915e+10</td>\n",
       "      <td>3.460</td>\n",
       "      <td>3.173440e+11</td>\n",
       "      <td>0.0</td>\n",
       "      <td>1.884000e+09</td>\n",
       "      <td>0.0</td>\n",
       "      <td>18.396</td>\n",
       "      <td>4.474700e+10</td>\n",
       "      <td>2020-07-31</td>\n",
       "    </tr>\n",
       "    <tr>\n",
       "      <th>5214</th>\n",
       "      <td>AAPL</td>\n",
       "      <td>ARQ</td>\n",
       "      <td>2020-03-31</td>\n",
       "      <td>2020-03-28</td>\n",
       "      <td>2021-04-29</td>\n",
       "      <td>-2.789000e+09</td>\n",
       "      <td>3.204000e+11</td>\n",
       "      <td>NaN</td>\n",
       "      <td>1.437530e+11</td>\n",
       "      <td>1.766470e+11</td>\n",
       "      <td>...</td>\n",
       "      <td>1.744040e+10</td>\n",
       "      <td>1.761876e+10</td>\n",
       "      <td>3.344</td>\n",
       "      <td>3.204000e+11</td>\n",
       "      <td>0.0</td>\n",
       "      <td>1.886000e+09</td>\n",
       "      <td>0.0</td>\n",
       "      <td>18.371</td>\n",
       "      <td>4.765900e+10</td>\n",
       "      <td>2020-05-01</td>\n",
       "    </tr>\n",
       "  </tbody>\n",
       "</table>\n",
       "<p>5 rows × 111 columns</p>\n",
       "</div>"
      ],
      "text/plain": [
       "     ticker dimension calendardate reportperiod lastupdated        accoci  \\\n",
       "5210   AAPL       ARQ   2021-03-31   2021-03-27  2021-04-29 -2.860000e+08   \n",
       "5211   AAPL       ARQ   2020-12-31   2020-12-26  2021-04-29  1.790000e+08   \n",
       "5212   AAPL       ARQ   2020-09-30   2020-09-26  2021-04-29 -4.060000e+08   \n",
       "5213   AAPL       ARQ   2020-06-30   2020-06-27  2021-04-29 -5.500000e+08   \n",
       "5214   AAPL       ARQ   2020-03-31   2020-03-28  2021-04-29 -2.789000e+09   \n",
       "\n",
       "            assets  assetsavg       assetsc      assetsnc  ...      shareswa  \\\n",
       "5210  3.371580e+11        NaN  1.214650e+11  2.156930e+11  ...  1.675348e+10   \n",
       "5211  3.540540e+11        NaN  1.541060e+11  1.999480e+11  ...  1.693512e+10   \n",
       "5212  3.238880e+11        NaN  1.437130e+11  1.801750e+11  ...  1.705762e+10   \n",
       "5213  3.173440e+11        NaN  1.400650e+11  1.772790e+11  ...  1.725029e+10   \n",
       "5214  3.204000e+11        NaN  1.437530e+11  1.766470e+11  ...  1.744040e+10   \n",
       "\n",
       "       shareswadil    sps     tangibles  taxassets        taxexp  \\\n",
       "5210  1.692916e+10  5.347  3.371580e+11        0.0  4.381000e+09   \n",
       "5211  1.711369e+10  6.580  3.540540e+11        0.0  4.824000e+09   \n",
       "5212  1.725652e+10  3.793  3.238880e+11        0.0  2.228000e+09   \n",
       "5213  1.741915e+10  3.460  3.173440e+11        0.0  1.884000e+09   \n",
       "5214  1.761876e+10  3.344  3.204000e+11        0.0  1.886000e+09   \n",
       "\n",
       "      taxliabilities   tbvps  workingcapital       date  \n",
       "5210             0.0  20.125    1.508000e+10 2021-04-29  \n",
       "5211             0.0  20.906    2.159900e+10 2021-01-28  \n",
       "5212             0.0  18.988    3.832100e+10 2020-10-30  \n",
       "5213             0.0  18.396    4.474700e+10 2020-07-31  \n",
       "5214             0.0  18.371    4.765900e+10 2020-05-01  \n",
       "\n",
       "[5 rows x 111 columns]"
      ]
     },
     "execution_count": 14,
     "metadata": {},
     "output_type": "execute_result"
    }
   ],
   "source": [
    "quarterly_data = df_quarterly[df_quarterly['ticker'] == ticker]\n",
    "quarterly_data.head()"
   ]
  },
  {
   "cell_type": "code",
   "execution_count": 15,
   "id": "c6b04ed8",
   "metadata": {
    "ExecuteTime": {
     "end_time": "2021-07-26T19:19:06.452070Z",
     "start_time": "2021-07-26T19:19:06.449532Z"
    }
   },
   "outputs": [
    {
     "data": {
      "text/plain": [
       "(21, 111)"
      ]
     },
     "execution_count": 15,
     "metadata": {},
     "output_type": "execute_result"
    }
   ],
   "source": [
    "quarterly_data.shape"
   ]
  },
  {
   "cell_type": "markdown",
   "id": "633bd5ef",
   "metadata": {},
   "source": [
    "### Series features for last quarter"
   ]
  },
  {
   "cell_type": "code",
   "execution_count": 16,
   "id": "df8665c6",
   "metadata": {
    "ExecuteTime": {
     "end_time": "2021-07-26T19:19:06.462639Z",
     "start_time": "2021-07-26T19:19:06.453021Z"
    }
   },
   "outputs": [
    {
     "data": {
      "text/html": [
       "<div>\n",
       "<style scoped>\n",
       "    .dataframe tbody tr th:only-of-type {\n",
       "        vertical-align: middle;\n",
       "    }\n",
       "\n",
       "    .dataframe tbody tr th {\n",
       "        vertical-align: top;\n",
       "    }\n",
       "\n",
       "    .dataframe thead th {\n",
       "        text-align: right;\n",
       "    }\n",
       "</style>\n",
       "<table border=\"1\" class=\"dataframe\">\n",
       "  <thead>\n",
       "    <tr style=\"text-align: right;\">\n",
       "      <th></th>\n",
       "      <th>revenue</th>\n",
       "      <th>netinc</th>\n",
       "      <th>ncf</th>\n",
       "      <th>assets</th>\n",
       "      <th>ebitda</th>\n",
       "      <th>debt</th>\n",
       "      <th>fcf</th>\n",
       "      <th>gp</th>\n",
       "      <th>workingcapital</th>\n",
       "      <th>cashneq</th>\n",
       "      <th>rnd</th>\n",
       "      <th>sgna</th>\n",
       "      <th>ncfx</th>\n",
       "      <th>divyield</th>\n",
       "      <th>currentratio</th>\n",
       "      <th>netinccmn</th>\n",
       "    </tr>\n",
       "  </thead>\n",
       "  <tbody>\n",
       "    <tr>\n",
       "      <th>5210</th>\n",
       "      <td>8.958400e+10</td>\n",
       "      <td>2.363000e+10</td>\n",
       "      <td>2.287000e+09</td>\n",
       "      <td>3.371580e+11</td>\n",
       "      <td>3.080800e+10</td>\n",
       "      <td>1.216450e+11</td>\n",
       "      <td>2.171200e+10</td>\n",
       "      <td>3.807900e+10</td>\n",
       "      <td>1.508000e+10</td>\n",
       "      <td>3.846600e+10</td>\n",
       "      <td>5.262000e+09</td>\n",
       "      <td>5.314000e+09</td>\n",
       "      <td>0.0</td>\n",
       "      <td>0.006</td>\n",
       "      <td>1.142</td>\n",
       "      <td>2.363000e+10</td>\n",
       "    </tr>\n",
       "    <tr>\n",
       "      <th>5211</th>\n",
       "      <td>1.114390e+11</td>\n",
       "      <td>2.875500e+10</td>\n",
       "      <td>-2.070000e+09</td>\n",
       "      <td>3.540540e+11</td>\n",
       "      <td>3.624500e+10</td>\n",
       "      <td>1.120430e+11</td>\n",
       "      <td>3.526300e+10</td>\n",
       "      <td>4.432800e+10</td>\n",
       "      <td>2.159900e+10</td>\n",
       "      <td>3.601000e+10</td>\n",
       "      <td>5.163000e+09</td>\n",
       "      <td>5.631000e+09</td>\n",
       "      <td>0.0</td>\n",
       "      <td>0.006</td>\n",
       "      <td>1.163</td>\n",
       "      <td>2.875500e+10</td>\n",
       "    </tr>\n",
       "    <tr>\n",
       "      <th>5212</th>\n",
       "      <td>6.469800e+10</td>\n",
       "      <td>1.267300e+10</td>\n",
       "      <td>4.750000e+09</td>\n",
       "      <td>3.238880e+11</td>\n",
       "      <td>1.760300e+10</td>\n",
       "      <td>1.124360e+11</td>\n",
       "      <td>1.879200e+10</td>\n",
       "      <td>2.468900e+10</td>\n",
       "      <td>3.832100e+10</td>\n",
       "      <td>3.801600e+10</td>\n",
       "      <td>4.978000e+09</td>\n",
       "      <td>4.936000e+09</td>\n",
       "      <td>0.0</td>\n",
       "      <td>0.007</td>\n",
       "      <td>1.364</td>\n",
       "      <td>1.267300e+10</td>\n",
       "    </tr>\n",
       "    <tr>\n",
       "      <th>5213</th>\n",
       "      <td>5.968500e+10</td>\n",
       "      <td>1.125300e+10</td>\n",
       "      <td>-8.010000e+09</td>\n",
       "      <td>3.173440e+11</td>\n",
       "      <td>1.588900e+10</td>\n",
       "      <td>1.127230e+11</td>\n",
       "      <td>1.470600e+10</td>\n",
       "      <td>2.268000e+10</td>\n",
       "      <td>4.474700e+10</td>\n",
       "      <td>3.338300e+10</td>\n",
       "      <td>4.758000e+09</td>\n",
       "      <td>4.831000e+09</td>\n",
       "      <td>0.0</td>\n",
       "      <td>0.007</td>\n",
       "      <td>1.469</td>\n",
       "      <td>1.125300e+10</td>\n",
       "    </tr>\n",
       "    <tr>\n",
       "      <th>5214</th>\n",
       "      <td>5.831300e+10</td>\n",
       "      <td>1.124900e+10</td>\n",
       "      <td>1.384000e+09</td>\n",
       "      <td>3.204000e+11</td>\n",
       "      <td>1.592100e+10</td>\n",
       "      <td>1.095070e+11</td>\n",
       "      <td>1.145800e+10</td>\n",
       "      <td>2.237000e+10</td>\n",
       "      <td>4.765900e+10</td>\n",
       "      <td>4.017400e+10</td>\n",
       "      <td>4.565000e+09</td>\n",
       "      <td>4.952000e+09</td>\n",
       "      <td>0.0</td>\n",
       "      <td>0.011</td>\n",
       "      <td>1.496</td>\n",
       "      <td>1.124900e+10</td>\n",
       "    </tr>\n",
       "  </tbody>\n",
       "</table>\n",
       "</div>"
      ],
      "text/plain": [
       "           revenue        netinc           ncf        assets        ebitda  \\\n",
       "5210  8.958400e+10  2.363000e+10  2.287000e+09  3.371580e+11  3.080800e+10   \n",
       "5211  1.114390e+11  2.875500e+10 -2.070000e+09  3.540540e+11  3.624500e+10   \n",
       "5212  6.469800e+10  1.267300e+10  4.750000e+09  3.238880e+11  1.760300e+10   \n",
       "5213  5.968500e+10  1.125300e+10 -8.010000e+09  3.173440e+11  1.588900e+10   \n",
       "5214  5.831300e+10  1.124900e+10  1.384000e+09  3.204000e+11  1.592100e+10   \n",
       "\n",
       "              debt           fcf            gp  workingcapital       cashneq  \\\n",
       "5210  1.216450e+11  2.171200e+10  3.807900e+10    1.508000e+10  3.846600e+10   \n",
       "5211  1.120430e+11  3.526300e+10  4.432800e+10    2.159900e+10  3.601000e+10   \n",
       "5212  1.124360e+11  1.879200e+10  2.468900e+10    3.832100e+10  3.801600e+10   \n",
       "5213  1.127230e+11  1.470600e+10  2.268000e+10    4.474700e+10  3.338300e+10   \n",
       "5214  1.095070e+11  1.145800e+10  2.237000e+10    4.765900e+10  4.017400e+10   \n",
       "\n",
       "               rnd          sgna  ncfx  divyield  currentratio     netinccmn  \n",
       "5210  5.262000e+09  5.314000e+09   0.0     0.006         1.142  2.363000e+10  \n",
       "5211  5.163000e+09  5.631000e+09   0.0     0.006         1.163  2.875500e+10  \n",
       "5212  4.978000e+09  4.936000e+09   0.0     0.007         1.364  1.267300e+10  \n",
       "5213  4.758000e+09  4.831000e+09   0.0     0.007         1.469  1.125300e+10  \n",
       "5214  4.565000e+09  4.952000e+09   0.0     0.011         1.496  1.124900e+10  "
      ]
     },
     "execution_count": 16,
     "metadata": {},
     "output_type": "execute_result"
    }
   ],
   "source": [
    "quarterly_data[QUARTER_COLUMNS].head()"
   ]
  },
  {
   "cell_type": "code",
   "execution_count": 17,
   "id": "238debb3",
   "metadata": {
    "ExecuteTime": {
     "end_time": "2021-07-26T19:19:06.465351Z",
     "start_time": "2021-07-26T19:19:06.463456Z"
    }
   },
   "outputs": [],
   "source": [
    "col = 'revenue'\n",
    "quarter_cnt = 4"
   ]
  },
  {
   "cell_type": "code",
   "execution_count": 18,
   "id": "d47e77a5",
   "metadata": {
    "ExecuteTime": {
     "end_time": "2021-07-26T19:19:06.468257Z",
     "start_time": "2021-07-26T19:19:06.466098Z"
    }
   },
   "outputs": [
    {
     "data": {
      "text/plain": [
       "array([5.96850e+10, 6.46980e+10, 1.11439e+11, 8.95840e+10])"
      ]
     },
     "execution_count": 18,
     "metadata": {},
     "output_type": "execute_result"
    }
   ],
   "source": [
    "# Revenue for past 2 quarters\n",
    "series = quarterly_data[col].values[:quarter_cnt][::-1].astype('float')\n",
    "series"
   ]
  },
  {
   "cell_type": "code",
   "execution_count": 19,
   "id": "6774c663",
   "metadata": {
    "ExecuteTime": {
     "end_time": "2021-07-26T19:19:06.471018Z",
     "start_time": "2021-07-26T19:19:06.468977Z"
    }
   },
   "outputs": [
    {
     "data": {
      "text/plain": [
       "array([5.96850e+10, 6.46980e+10, 1.11439e+11, 8.95840e+10])"
      ]
     },
     "execution_count": 19,
     "metadata": {},
     "output_type": "execute_result"
    }
   ],
   "source": [
    "series = np.array(series).astype('float')\n",
    "series"
   ]
  },
  {
   "cell_type": "code",
   "execution_count": 20,
   "id": "ae7f7413",
   "metadata": {
    "ExecuteTime": {
     "end_time": "2021-07-26T19:19:06.473722Z",
     "start_time": "2021-07-26T19:19:06.471578Z"
    }
   },
   "outputs": [
    {
     "data": {
      "text/plain": [
       "array([5.96850e+10, 6.46980e+10, 1.11439e+11, 8.95840e+10])"
      ]
     },
     "execution_count": 20,
     "metadata": {},
     "output_type": "execute_result"
    }
   ],
   "source": [
    "series = series[~np.isnan(series)]\n",
    "series"
   ]
  },
  {
   "cell_type": "code",
   "execution_count": 21,
   "id": "08a2d765",
   "metadata": {
    "ExecuteTime": {
     "end_time": "2021-07-26T19:19:06.478396Z",
     "start_time": "2021-07-26T19:19:06.474376Z"
    }
   },
   "outputs": [
    {
     "data": {
      "text/plain": [
       "{'quarter_revenue_4_mean': 81351500000.0,\n",
       " 'quarter_revenue_4_median': 77141000000.0,\n",
       " 'quarter_revenue_4_max': 111439000000.0,\n",
       " 'quarter_revenue_4_min': 59685000000.0,\n",
       " 'quarter_revenue_4_std': 20735283920.16854}"
      ]
     },
     "execution_count": 21,
     "metadata": {},
     "output_type": "execute_result"
    }
   ],
   "source": [
    "name_prefix = f'quarter_{col}_{quarter_cnt}'\n",
    "stats = {\n",
    "    f'{name_prefix}_mean': np.mean(series),\n",
    "    f'{name_prefix}_median': np.median(series),\n",
    "    f'{name_prefix}_max': np.max(series),\n",
    "    f'{name_prefix}_min': np.min(series),\n",
    "    f'{name_prefix}_std': np.std(series),\n",
    "}\n",
    "stats"
   ]
  },
  {
   "cell_type": "code",
   "execution_count": 22,
   "id": "6ce12274",
   "metadata": {
    "ExecuteTime": {
     "end_time": "2021-07-26T19:19:06.482461Z",
     "start_time": "2021-07-26T19:19:06.479408Z"
    }
   },
   "outputs": [
    {
     "data": {
      "text/plain": [
       "array([ 5.0130e+09,  4.6741e+10, -2.1855e+10])"
      ]
     },
     "execution_count": 22,
     "metadata": {},
     "output_type": "execute_result"
    }
   ],
   "source": [
    "np.diff(series)"
   ]
  },
  {
   "cell_type": "markdown",
   "id": "641aac4a",
   "metadata": {},
   "source": [
    "### Series features for each quarter in the past"
   ]
  },
  {
   "cell_type": "code",
   "execution_count": 23,
   "id": "a7b78f77",
   "metadata": {
    "ExecuteTime": {
     "end_time": "2021-07-26T19:19:06.485848Z",
     "start_time": "2021-07-26T19:19:06.483238Z"
    }
   },
   "outputs": [],
   "source": [
    "# Window features for each ticker & each quarter\n",
    "\n",
    "def compute_df_quarterly_p() -> pd.DataFrame:\n",
    "    with ProcessPoolExecutor(max_workers=CPU_COUNT) as executor:\n",
    "        with tqdm(total=len(tickers), mininterval=2) as progress:\n",
    "            futures = []\n",
    "            for ticker in tickers:\n",
    "                f = executor.submit(\n",
    "                    compute_df_quarterly_ticker,\n",
    "                    df_quarterly_ticker=df_quarterly[df_quarterly['ticker'] == ticker],\n",
    "                    ticker=ticker,\n",
    "                )\n",
    "                f.add_done_callback(lambda p: progress.update())\n",
    "                futures.append(f)\n",
    "\n",
    "            result: List[Dict[str, Any]] = []\n",
    "            for f in futures:\n",
    "                result += f.result()\n",
    "\n",
    "    # Dont set_index here to merge it with base_features later\n",
    "    df_quarterly_p = pd.DataFrame(result)\n",
    "    return df_quarterly_p"
   ]
  },
  {
   "cell_type": "code",
   "execution_count": 24,
   "id": "769db523",
   "metadata": {
    "ExecuteTime": {
     "end_time": "2021-07-26T19:19:48.655932Z",
     "start_time": "2021-07-26T19:19:06.486518Z"
    }
   },
   "outputs": [
    {
     "name": "stdout",
     "output_type": "stream",
     "text": [
      "creating new value for variable 'df_quarterly_p'\n"
     ]
    },
    {
     "name": "stderr",
     "output_type": "stream",
     "text": [
      "100%|███████████████████████████████████████████| 1492/1492 [00:36<00:00, 41.16it/s]\n"
     ]
    }
   ],
   "source": [
    "%cache df_quarterly_p = compute_df_quarterly_p()"
   ]
  },
  {
   "cell_type": "code",
   "execution_count": 25,
   "id": "a630bf6e",
   "metadata": {
    "ExecuteTime": {
     "end_time": "2021-07-26T19:19:48.686967Z",
     "start_time": "2021-07-26T19:19:48.658092Z"
    }
   },
   "outputs": [
    {
     "data": {
      "text/html": [
       "<div>\n",
       "<style scoped>\n",
       "    .dataframe tbody tr th:only-of-type {\n",
       "        vertical-align: middle;\n",
       "    }\n",
       "\n",
       "    .dataframe tbody tr th {\n",
       "        vertical-align: top;\n",
       "    }\n",
       "\n",
       "    .dataframe thead th {\n",
       "        text-align: right;\n",
       "    }\n",
       "</style>\n",
       "<table border=\"1\" class=\"dataframe\">\n",
       "  <thead>\n",
       "    <tr style=\"text-align: right;\">\n",
       "      <th></th>\n",
       "      <th>ticker</th>\n",
       "      <th>date</th>\n",
       "      <th>quarter_series_2_revenue_mean</th>\n",
       "      <th>quarter_series_2_revenue_median</th>\n",
       "      <th>quarter_series_2_revenue_max</th>\n",
       "      <th>quarter_series_2_revenue_min</th>\n",
       "      <th>quarter_series_2_revenue_std</th>\n",
       "      <th>quarter_diffs_2_revenue_mean</th>\n",
       "      <th>quarter_diffs_2_revenue_median</th>\n",
       "      <th>quarter_diffs_2_revenue_max</th>\n",
       "      <th>...</th>\n",
       "      <th>quarter_series_10_netinccmn_mean</th>\n",
       "      <th>quarter_series_10_netinccmn_median</th>\n",
       "      <th>quarter_series_10_netinccmn_max</th>\n",
       "      <th>quarter_series_10_netinccmn_min</th>\n",
       "      <th>quarter_series_10_netinccmn_std</th>\n",
       "      <th>quarter_diffs_10_netinccmn_mean</th>\n",
       "      <th>quarter_diffs_10_netinccmn_median</th>\n",
       "      <th>quarter_diffs_10_netinccmn_max</th>\n",
       "      <th>quarter_diffs_10_netinccmn_min</th>\n",
       "      <th>quarter_diffs_10_netinccmn_std</th>\n",
       "    </tr>\n",
       "  </thead>\n",
       "  <tbody>\n",
       "    <tr>\n",
       "      <th>0</th>\n",
       "      <td>ZI</td>\n",
       "      <td>2021-05-03</td>\n",
       "      <td>146500000.0</td>\n",
       "      <td>146500000.0</td>\n",
       "      <td>153300000.0</td>\n",
       "      <td>139700000.0</td>\n",
       "      <td>6800000.0</td>\n",
       "      <td>13600000.0</td>\n",
       "      <td>13600000.0</td>\n",
       "      <td>13600000.0</td>\n",
       "      <td>...</td>\n",
       "      <td>-1.171429e+06</td>\n",
       "      <td>3200000.0</td>\n",
       "      <td>25500000.0</td>\n",
       "      <td>-20400000.0</td>\n",
       "      <td>1.495725e+07</td>\n",
       "      <td>1.516667e+06</td>\n",
       "      <td>0.0</td>\n",
       "      <td>25300000.0</td>\n",
       "      <td>-22300000.0</td>\n",
       "      <td>1.711816e+07</td>\n",
       "    </tr>\n",
       "    <tr>\n",
       "      <th>1</th>\n",
       "      <td>ZI</td>\n",
       "      <td>2021-02-26</td>\n",
       "      <td>131550000.0</td>\n",
       "      <td>131550000.0</td>\n",
       "      <td>139700000.0</td>\n",
       "      <td>123400000.0</td>\n",
       "      <td>8150000.0</td>\n",
       "      <td>16300000.0</td>\n",
       "      <td>16300000.0</td>\n",
       "      <td>16300000.0</td>\n",
       "      <td>...</td>\n",
       "      <td>-1.900000e+06</td>\n",
       "      <td>-500000.0</td>\n",
       "      <td>25500000.0</td>\n",
       "      <td>-20400000.0</td>\n",
       "      <td>1.604026e+07</td>\n",
       "      <td>6.280000e+06</td>\n",
       "      <td>0.0</td>\n",
       "      <td>25300000.0</td>\n",
       "      <td>-14500000.0</td>\n",
       "      <td>1.467997e+07</td>\n",
       "    </tr>\n",
       "    <tr>\n",
       "      <th>2</th>\n",
       "      <td>ZI</td>\n",
       "      <td>2020-11-30</td>\n",
       "      <td>123400000.0</td>\n",
       "      <td>123400000.0</td>\n",
       "      <td>123400000.0</td>\n",
       "      <td>123400000.0</td>\n",
       "      <td>0.0</td>\n",
       "      <td>0.0</td>\n",
       "      <td>0.0</td>\n",
       "      <td>0.0</td>\n",
       "      <td>...</td>\n",
       "      <td>-7.380000e+06</td>\n",
       "      <td>-5900000.0</td>\n",
       "      <td>4900000.0</td>\n",
       "      <td>-20400000.0</td>\n",
       "      <td>1.133868e+07</td>\n",
       "      <td>2.700000e+06</td>\n",
       "      <td>0.0</td>\n",
       "      <td>25300000.0</td>\n",
       "      <td>-14500000.0</td>\n",
       "      <td>1.432812e+07</td>\n",
       "    </tr>\n",
       "    <tr>\n",
       "      <th>3</th>\n",
       "      <td>ZI</td>\n",
       "      <td>2020-11-13</td>\n",
       "      <td>117150000.0</td>\n",
       "      <td>117150000.0</td>\n",
       "      <td>123400000.0</td>\n",
       "      <td>110900000.0</td>\n",
       "      <td>6250000.0</td>\n",
       "      <td>12500000.0</td>\n",
       "      <td>12500000.0</td>\n",
       "      <td>12500000.0</td>\n",
       "      <td>...</td>\n",
       "      <td>-1.045000e+07</td>\n",
       "      <td>-13150000.0</td>\n",
       "      <td>4900000.0</td>\n",
       "      <td>-20400000.0</td>\n",
       "      <td>1.065751e+07</td>\n",
       "      <td>3.600000e+06</td>\n",
       "      <td>0.0</td>\n",
       "      <td>25300000.0</td>\n",
       "      <td>-14500000.0</td>\n",
       "      <td>1.644648e+07</td>\n",
       "    </tr>\n",
       "    <tr>\n",
       "      <th>4</th>\n",
       "      <td>ZI</td>\n",
       "      <td>2020-08-18</td>\n",
       "      <td>110900000.0</td>\n",
       "      <td>110900000.0</td>\n",
       "      <td>110900000.0</td>\n",
       "      <td>110900000.0</td>\n",
       "      <td>0.0</td>\n",
       "      <td>0.0</td>\n",
       "      <td>0.0</td>\n",
       "      <td>0.0</td>\n",
       "      <td>...</td>\n",
       "      <td>-1.556667e+07</td>\n",
       "      <td>-20400000.0</td>\n",
       "      <td>-5900000.0</td>\n",
       "      <td>-20400000.0</td>\n",
       "      <td>6.835366e+06</td>\n",
       "      <td>-7.250000e+06</td>\n",
       "      <td>-7250000.0</td>\n",
       "      <td>0.0</td>\n",
       "      <td>-14500000.0</td>\n",
       "      <td>7.250000e+06</td>\n",
       "    </tr>\n",
       "    <tr>\n",
       "      <th>...</th>\n",
       "      <td>...</td>\n",
       "      <td>...</td>\n",
       "      <td>...</td>\n",
       "      <td>...</td>\n",
       "      <td>...</td>\n",
       "      <td>...</td>\n",
       "      <td>...</td>\n",
       "      <td>...</td>\n",
       "      <td>...</td>\n",
       "      <td>...</td>\n",
       "      <td>...</td>\n",
       "      <td>...</td>\n",
       "      <td>...</td>\n",
       "      <td>...</td>\n",
       "      <td>...</td>\n",
       "      <td>...</td>\n",
       "      <td>...</td>\n",
       "      <td>...</td>\n",
       "      <td>...</td>\n",
       "      <td>...</td>\n",
       "      <td>...</td>\n",
       "    </tr>\n",
       "    <tr>\n",
       "      <th>27056</th>\n",
       "      <td>TXG</td>\n",
       "      <td>2020-11-12</td>\n",
       "      <td>57361000.0</td>\n",
       "      <td>57361000.0</td>\n",
       "      <td>71817000.0</td>\n",
       "      <td>42905000.0</td>\n",
       "      <td>14456000.0</td>\n",
       "      <td>28912000.0</td>\n",
       "      <td>28912000.0</td>\n",
       "      <td>28912000.0</td>\n",
       "      <td>...</td>\n",
       "      <td>-2.877900e+07</td>\n",
       "      <td>-21143000.0</td>\n",
       "      <td>-7134000.0</td>\n",
       "      <td>-65848000.0</td>\n",
       "      <td>2.190128e+07</td>\n",
       "      <td>-1.406125e+07</td>\n",
       "      <td>-16516500.0</td>\n",
       "      <td>2469000.0</td>\n",
       "      <td>-25681000.0</td>\n",
       "      <td>1.040312e+07</td>\n",
       "    </tr>\n",
       "    <tr>\n",
       "      <th>27057</th>\n",
       "      <td>TXG</td>\n",
       "      <td>2020-08-12</td>\n",
       "      <td>57405000.0</td>\n",
       "      <td>57405000.0</td>\n",
       "      <td>71905000.0</td>\n",
       "      <td>42905000.0</td>\n",
       "      <td>14500000.0</td>\n",
       "      <td>-29000000.0</td>\n",
       "      <td>-29000000.0</td>\n",
       "      <td>-29000000.0</td>\n",
       "      <td>...</td>\n",
       "      <td>-1.951175e+07</td>\n",
       "      <td>-15373000.0</td>\n",
       "      <td>-7134000.0</td>\n",
       "      <td>-40167000.0</td>\n",
       "      <td>1.304504e+07</td>\n",
       "      <td>-1.018800e+07</td>\n",
       "      <td>-14009000.0</td>\n",
       "      <td>2469000.0</td>\n",
       "      <td>-19024000.0</td>\n",
       "      <td>9.181042e+06</td>\n",
       "    </tr>\n",
       "    <tr>\n",
       "      <th>27058</th>\n",
       "      <td>TXG</td>\n",
       "      <td>2020-05-12</td>\n",
       "      <td>73597000.0</td>\n",
       "      <td>73597000.0</td>\n",
       "      <td>75289000.0</td>\n",
       "      <td>71905000.0</td>\n",
       "      <td>1692000.0</td>\n",
       "      <td>-3384000.0</td>\n",
       "      <td>-3384000.0</td>\n",
       "      <td>-3384000.0</td>\n",
       "      <td>...</td>\n",
       "      <td>-1.262667e+07</td>\n",
       "      <td>-9603000.0</td>\n",
       "      <td>-7134000.0</td>\n",
       "      <td>-21143000.0</td>\n",
       "      <td>6.105732e+06</td>\n",
       "      <td>-5.770000e+06</td>\n",
       "      <td>-5770000.0</td>\n",
       "      <td>2469000.0</td>\n",
       "      <td>-14009000.0</td>\n",
       "      <td>8.239000e+06</td>\n",
       "    </tr>\n",
       "    <tr>\n",
       "      <th>27059</th>\n",
       "      <td>TXG</td>\n",
       "      <td>2020-02-27</td>\n",
       "      <td>68248000.0</td>\n",
       "      <td>68248000.0</td>\n",
       "      <td>75289000.0</td>\n",
       "      <td>61207000.0</td>\n",
       "      <td>7041000.0</td>\n",
       "      <td>14082000.0</td>\n",
       "      <td>14082000.0</td>\n",
       "      <td>14082000.0</td>\n",
       "      <td>...</td>\n",
       "      <td>-8.368500e+06</td>\n",
       "      <td>-8368500.0</td>\n",
       "      <td>-7134000.0</td>\n",
       "      <td>-9603000.0</td>\n",
       "      <td>1.234500e+06</td>\n",
       "      <td>2.469000e+06</td>\n",
       "      <td>2469000.0</td>\n",
       "      <td>2469000.0</td>\n",
       "      <td>2469000.0</td>\n",
       "      <td>0.000000e+00</td>\n",
       "    </tr>\n",
       "    <tr>\n",
       "      <th>27060</th>\n",
       "      <td>TXG</td>\n",
       "      <td>2019-11-12</td>\n",
       "      <td>61207000.0</td>\n",
       "      <td>61207000.0</td>\n",
       "      <td>61207000.0</td>\n",
       "      <td>61207000.0</td>\n",
       "      <td>0.0</td>\n",
       "      <td>NaN</td>\n",
       "      <td>NaN</td>\n",
       "      <td>NaN</td>\n",
       "      <td>...</td>\n",
       "      <td>-9.603000e+06</td>\n",
       "      <td>-9603000.0</td>\n",
       "      <td>-9603000.0</td>\n",
       "      <td>-9603000.0</td>\n",
       "      <td>0.000000e+00</td>\n",
       "      <td>NaN</td>\n",
       "      <td>NaN</td>\n",
       "      <td>NaN</td>\n",
       "      <td>NaN</td>\n",
       "      <td>NaN</td>\n",
       "    </tr>\n",
       "  </tbody>\n",
       "</table>\n",
       "<p>27061 rows × 482 columns</p>\n",
       "</div>"
      ],
      "text/plain": [
       "      ticker       date  quarter_series_2_revenue_mean  \\\n",
       "0         ZI 2021-05-03                    146500000.0   \n",
       "1         ZI 2021-02-26                    131550000.0   \n",
       "2         ZI 2020-11-30                    123400000.0   \n",
       "3         ZI 2020-11-13                    117150000.0   \n",
       "4         ZI 2020-08-18                    110900000.0   \n",
       "...      ...        ...                            ...   \n",
       "27056    TXG 2020-11-12                     57361000.0   \n",
       "27057    TXG 2020-08-12                     57405000.0   \n",
       "27058    TXG 2020-05-12                     73597000.0   \n",
       "27059    TXG 2020-02-27                     68248000.0   \n",
       "27060    TXG 2019-11-12                     61207000.0   \n",
       "\n",
       "       quarter_series_2_revenue_median  quarter_series_2_revenue_max  \\\n",
       "0                          146500000.0                   153300000.0   \n",
       "1                          131550000.0                   139700000.0   \n",
       "2                          123400000.0                   123400000.0   \n",
       "3                          117150000.0                   123400000.0   \n",
       "4                          110900000.0                   110900000.0   \n",
       "...                                ...                           ...   \n",
       "27056                       57361000.0                    71817000.0   \n",
       "27057                       57405000.0                    71905000.0   \n",
       "27058                       73597000.0                    75289000.0   \n",
       "27059                       68248000.0                    75289000.0   \n",
       "27060                       61207000.0                    61207000.0   \n",
       "\n",
       "       quarter_series_2_revenue_min  quarter_series_2_revenue_std  \\\n",
       "0                       139700000.0                     6800000.0   \n",
       "1                       123400000.0                     8150000.0   \n",
       "2                       123400000.0                           0.0   \n",
       "3                       110900000.0                     6250000.0   \n",
       "4                       110900000.0                           0.0   \n",
       "...                             ...                           ...   \n",
       "27056                    42905000.0                    14456000.0   \n",
       "27057                    42905000.0                    14500000.0   \n",
       "27058                    71905000.0                     1692000.0   \n",
       "27059                    61207000.0                     7041000.0   \n",
       "27060                    61207000.0                           0.0   \n",
       "\n",
       "       quarter_diffs_2_revenue_mean  quarter_diffs_2_revenue_median  \\\n",
       "0                        13600000.0                      13600000.0   \n",
       "1                        16300000.0                      16300000.0   \n",
       "2                               0.0                             0.0   \n",
       "3                        12500000.0                      12500000.0   \n",
       "4                               0.0                             0.0   \n",
       "...                             ...                             ...   \n",
       "27056                    28912000.0                      28912000.0   \n",
       "27057                   -29000000.0                     -29000000.0   \n",
       "27058                    -3384000.0                      -3384000.0   \n",
       "27059                    14082000.0                      14082000.0   \n",
       "27060                           NaN                             NaN   \n",
       "\n",
       "       quarter_diffs_2_revenue_max  ...  quarter_series_10_netinccmn_mean  \\\n",
       "0                       13600000.0  ...                     -1.171429e+06   \n",
       "1                       16300000.0  ...                     -1.900000e+06   \n",
       "2                              0.0  ...                     -7.380000e+06   \n",
       "3                       12500000.0  ...                     -1.045000e+07   \n",
       "4                              0.0  ...                     -1.556667e+07   \n",
       "...                            ...  ...                               ...   \n",
       "27056                   28912000.0  ...                     -2.877900e+07   \n",
       "27057                  -29000000.0  ...                     -1.951175e+07   \n",
       "27058                   -3384000.0  ...                     -1.262667e+07   \n",
       "27059                   14082000.0  ...                     -8.368500e+06   \n",
       "27060                          NaN  ...                     -9.603000e+06   \n",
       "\n",
       "       quarter_series_10_netinccmn_median  quarter_series_10_netinccmn_max  \\\n",
       "0                               3200000.0                       25500000.0   \n",
       "1                               -500000.0                       25500000.0   \n",
       "2                              -5900000.0                        4900000.0   \n",
       "3                             -13150000.0                        4900000.0   \n",
       "4                             -20400000.0                       -5900000.0   \n",
       "...                                   ...                              ...   \n",
       "27056                         -21143000.0                       -7134000.0   \n",
       "27057                         -15373000.0                       -7134000.0   \n",
       "27058                          -9603000.0                       -7134000.0   \n",
       "27059                          -8368500.0                       -7134000.0   \n",
       "27060                          -9603000.0                       -9603000.0   \n",
       "\n",
       "       quarter_series_10_netinccmn_min  quarter_series_10_netinccmn_std  \\\n",
       "0                          -20400000.0                     1.495725e+07   \n",
       "1                          -20400000.0                     1.604026e+07   \n",
       "2                          -20400000.0                     1.133868e+07   \n",
       "3                          -20400000.0                     1.065751e+07   \n",
       "4                          -20400000.0                     6.835366e+06   \n",
       "...                                ...                              ...   \n",
       "27056                      -65848000.0                     2.190128e+07   \n",
       "27057                      -40167000.0                     1.304504e+07   \n",
       "27058                      -21143000.0                     6.105732e+06   \n",
       "27059                       -9603000.0                     1.234500e+06   \n",
       "27060                       -9603000.0                     0.000000e+00   \n",
       "\n",
       "       quarter_diffs_10_netinccmn_mean  quarter_diffs_10_netinccmn_median  \\\n",
       "0                         1.516667e+06                                0.0   \n",
       "1                         6.280000e+06                                0.0   \n",
       "2                         2.700000e+06                                0.0   \n",
       "3                         3.600000e+06                                0.0   \n",
       "4                        -7.250000e+06                         -7250000.0   \n",
       "...                                ...                                ...   \n",
       "27056                    -1.406125e+07                        -16516500.0   \n",
       "27057                    -1.018800e+07                        -14009000.0   \n",
       "27058                    -5.770000e+06                         -5770000.0   \n",
       "27059                     2.469000e+06                          2469000.0   \n",
       "27060                              NaN                                NaN   \n",
       "\n",
       "       quarter_diffs_10_netinccmn_max  quarter_diffs_10_netinccmn_min  \\\n",
       "0                          25300000.0                     -22300000.0   \n",
       "1                          25300000.0                     -14500000.0   \n",
       "2                          25300000.0                     -14500000.0   \n",
       "3                          25300000.0                     -14500000.0   \n",
       "4                                 0.0                     -14500000.0   \n",
       "...                               ...                             ...   \n",
       "27056                       2469000.0                     -25681000.0   \n",
       "27057                       2469000.0                     -19024000.0   \n",
       "27058                       2469000.0                     -14009000.0   \n",
       "27059                       2469000.0                       2469000.0   \n",
       "27060                             NaN                             NaN   \n",
       "\n",
       "       quarter_diffs_10_netinccmn_std  \n",
       "0                        1.711816e+07  \n",
       "1                        1.467997e+07  \n",
       "2                        1.432812e+07  \n",
       "3                        1.644648e+07  \n",
       "4                        7.250000e+06  \n",
       "...                               ...  \n",
       "27056                    1.040312e+07  \n",
       "27057                    9.181042e+06  \n",
       "27058                    8.239000e+06  \n",
       "27059                    0.000000e+00  \n",
       "27060                             NaN  \n",
       "\n",
       "[27061 rows x 482 columns]"
      ]
     },
     "execution_count": 25,
     "metadata": {},
     "output_type": "execute_result"
    }
   ],
   "source": [
    "df_quarterly_p"
   ]
  },
  {
   "cell_type": "markdown",
   "id": "bacfd139",
   "metadata": {},
   "source": [
    "## Daily-based features "
   ]
  },
  {
   "cell_type": "code",
   "execution_count": 26,
   "id": "8ff708f7",
   "metadata": {
    "ExecuteTime": {
     "end_time": "2021-07-26T19:19:55.347105Z",
     "start_time": "2021-07-26T19:19:48.688463Z"
    }
   },
   "outputs": [
    {
     "data": {
      "text/html": [
       "<div>\n",
       "<style scoped>\n",
       "    .dataframe tbody tr th:only-of-type {\n",
       "        vertical-align: middle;\n",
       "    }\n",
       "\n",
       "    .dataframe tbody tr th {\n",
       "        vertical-align: top;\n",
       "    }\n",
       "\n",
       "    .dataframe thead th {\n",
       "        text-align: right;\n",
       "    }\n",
       "</style>\n",
       "<table border=\"1\" class=\"dataframe\">\n",
       "  <thead>\n",
       "    <tr style=\"text-align: right;\">\n",
       "      <th></th>\n",
       "      <th>ticker</th>\n",
       "      <th>date</th>\n",
       "      <th>lastupdated</th>\n",
       "      <th>ev</th>\n",
       "      <th>evebit</th>\n",
       "      <th>evebitda</th>\n",
       "      <th>marketcap</th>\n",
       "      <th>pb</th>\n",
       "      <th>pe</th>\n",
       "      <th>ps</th>\n",
       "    </tr>\n",
       "  </thead>\n",
       "  <tbody>\n",
       "    <tr>\n",
       "      <th>599973</th>\n",
       "      <td>ZYXI</td>\n",
       "      <td>2021-07-20</td>\n",
       "      <td>2021-07-20</td>\n",
       "      <td>562.7</td>\n",
       "      <td>84.8</td>\n",
       "      <td>66.1</td>\n",
       "      <td>589600000.0</td>\n",
       "      <td>10.5</td>\n",
       "      <td>108.6</td>\n",
       "      <td>6.6</td>\n",
       "    </tr>\n",
       "    <tr>\n",
       "      <th>599974</th>\n",
       "      <td>ZYXI</td>\n",
       "      <td>2021-07-19</td>\n",
       "      <td>2021-07-19</td>\n",
       "      <td>549.5</td>\n",
       "      <td>82.8</td>\n",
       "      <td>64.6</td>\n",
       "      <td>576400000.0</td>\n",
       "      <td>10.3</td>\n",
       "      <td>106.1</td>\n",
       "      <td>6.5</td>\n",
       "    </tr>\n",
       "    <tr>\n",
       "      <th>599975</th>\n",
       "      <td>ZYXI</td>\n",
       "      <td>2021-07-16</td>\n",
       "      <td>2021-07-16</td>\n",
       "      <td>558.9</td>\n",
       "      <td>84.3</td>\n",
       "      <td>65.7</td>\n",
       "      <td>585800000.0</td>\n",
       "      <td>10.4</td>\n",
       "      <td>107.9</td>\n",
       "      <td>6.6</td>\n",
       "    </tr>\n",
       "    <tr>\n",
       "      <th>599976</th>\n",
       "      <td>ZYXI</td>\n",
       "      <td>2021-07-15</td>\n",
       "      <td>2021-07-15</td>\n",
       "      <td>502.4</td>\n",
       "      <td>75.7</td>\n",
       "      <td>59.1</td>\n",
       "      <td>529300000.0</td>\n",
       "      <td>9.4</td>\n",
       "      <td>97.5</td>\n",
       "      <td>5.9</td>\n",
       "    </tr>\n",
       "    <tr>\n",
       "      <th>599977</th>\n",
       "      <td>ZYXI</td>\n",
       "      <td>2021-07-14</td>\n",
       "      <td>2021-07-14</td>\n",
       "      <td>470.4</td>\n",
       "      <td>70.9</td>\n",
       "      <td>55.3</td>\n",
       "      <td>497300000.0</td>\n",
       "      <td>8.9</td>\n",
       "      <td>91.6</td>\n",
       "      <td>5.6</td>\n",
       "    </tr>\n",
       "  </tbody>\n",
       "</table>\n",
       "</div>"
      ],
      "text/plain": [
       "       ticker       date lastupdated     ev evebit evebitda    marketcap  \\\n",
       "599973   ZYXI 2021-07-20  2021-07-20  562.7   84.8     66.1  589600000.0   \n",
       "599974   ZYXI 2021-07-19  2021-07-19  549.5   82.8     64.6  576400000.0   \n",
       "599975   ZYXI 2021-07-16  2021-07-16  558.9   84.3     65.7  585800000.0   \n",
       "599976   ZYXI 2021-07-15  2021-07-15  502.4   75.7     59.1  529300000.0   \n",
       "599977   ZYXI 2021-07-14  2021-07-14  470.4   70.9     55.3  497300000.0   \n",
       "\n",
       "          pb     pe   ps  \n",
       "599973  10.5  108.6  6.6  \n",
       "599974  10.3  106.1  6.5  \n",
       "599975  10.4  107.9  6.6  \n",
       "599976   9.4   97.5  5.9  \n",
       "599977   8.9   91.6  5.6  "
      ]
     },
     "execution_count": 26,
     "metadata": {},
     "output_type": "execute_result"
    }
   ],
   "source": [
    "df_daily = quandl_daily_to_df(\n",
    "    base_path=os.path.dirname(os.getcwd()) + '/datasets/quandl/daily',\n",
    "    tickers=tickers,\n",
    ")\n",
    "df_daily = df_daily.sort_values(by=['ticker', 'date'], ascending=False)\n",
    "df_daily.head()"
   ]
  },
  {
   "cell_type": "markdown",
   "id": "cd78041b",
   "metadata": {},
   "source": [
    "### Experiments"
   ]
  },
  {
   "cell_type": "code",
   "execution_count": 27,
   "id": "222c60ff",
   "metadata": {
    "ExecuteTime": {
     "end_time": "2021-07-26T19:19:56.092682Z",
     "start_time": "2021-07-26T19:19:55.347912Z"
    }
   },
   "outputs": [
    {
     "data": {
      "text/html": [
       "<div>\n",
       "<style scoped>\n",
       "    .dataframe tbody tr th:only-of-type {\n",
       "        vertical-align: middle;\n",
       "    }\n",
       "\n",
       "    .dataframe tbody tr th {\n",
       "        vertical-align: top;\n",
       "    }\n",
       "\n",
       "    .dataframe thead th {\n",
       "        text-align: right;\n",
       "    }\n",
       "</style>\n",
       "<table border=\"1\" class=\"dataframe\">\n",
       "  <thead>\n",
       "    <tr style=\"text-align: right;\">\n",
       "      <th></th>\n",
       "      <th>ticker</th>\n",
       "      <th>date</th>\n",
       "      <th>lastupdated</th>\n",
       "      <th>ev</th>\n",
       "      <th>evebit</th>\n",
       "      <th>evebitda</th>\n",
       "      <th>marketcap</th>\n",
       "      <th>pb</th>\n",
       "      <th>pe</th>\n",
       "      <th>ps</th>\n",
       "    </tr>\n",
       "  </thead>\n",
       "  <tbody>\n",
       "    <tr>\n",
       "      <th>346700</th>\n",
       "      <td>AAPL</td>\n",
       "      <td>2021-07-20</td>\n",
       "      <td>2021-07-20</td>\n",
       "      <td>2522076.3</td>\n",
       "      <td>28.1</td>\n",
       "      <td>25.1</td>\n",
       "      <td>2.438897e+12</td>\n",
       "      <td>35.3</td>\n",
       "      <td>32.0</td>\n",
       "      <td>7.5</td>\n",
       "    </tr>\n",
       "    <tr>\n",
       "      <th>346701</th>\n",
       "      <td>AAPL</td>\n",
       "      <td>2021-07-19</td>\n",
       "      <td>2021-07-19</td>\n",
       "      <td>2460332.0</td>\n",
       "      <td>27.5</td>\n",
       "      <td>24.5</td>\n",
       "      <td>2.377153e+12</td>\n",
       "      <td>34.4</td>\n",
       "      <td>31.2</td>\n",
       "      <td>7.3</td>\n",
       "    </tr>\n",
       "    <tr>\n",
       "      <th>346702</th>\n",
       "      <td>AAPL</td>\n",
       "      <td>2021-07-16</td>\n",
       "      <td>2021-07-16</td>\n",
       "      <td>2526081.3</td>\n",
       "      <td>28.2</td>\n",
       "      <td>25.1</td>\n",
       "      <td>2.442902e+12</td>\n",
       "      <td>35.3</td>\n",
       "      <td>32.0</td>\n",
       "      <td>7.5</td>\n",
       "    </tr>\n",
       "    <tr>\n",
       "      <th>346703</th>\n",
       "      <td>AAPL</td>\n",
       "      <td>2021-07-15</td>\n",
       "      <td>2021-07-15</td>\n",
       "      <td>2560958.5</td>\n",
       "      <td>28.6</td>\n",
       "      <td>25.5</td>\n",
       "      <td>2.477780e+12</td>\n",
       "      <td>35.8</td>\n",
       "      <td>32.5</td>\n",
       "      <td>7.6</td>\n",
       "    </tr>\n",
       "    <tr>\n",
       "      <th>346704</th>\n",
       "      <td>AAPL</td>\n",
       "      <td>2021-07-14</td>\n",
       "      <td>2021-07-14</td>\n",
       "      <td>2572139.2</td>\n",
       "      <td>28.7</td>\n",
       "      <td>25.6</td>\n",
       "      <td>2.488960e+12</td>\n",
       "      <td>36.0</td>\n",
       "      <td>32.6</td>\n",
       "      <td>7.6</td>\n",
       "    </tr>\n",
       "  </tbody>\n",
       "</table>\n",
       "</div>"
      ],
      "text/plain": [
       "       ticker       date lastupdated         ev evebit evebitda     marketcap  \\\n",
       "346700   AAPL 2021-07-20  2021-07-20  2522076.3   28.1     25.1  2.438897e+12   \n",
       "346701   AAPL 2021-07-19  2021-07-19  2460332.0   27.5     24.5  2.377153e+12   \n",
       "346702   AAPL 2021-07-16  2021-07-16  2526081.3   28.2     25.1  2.442902e+12   \n",
       "346703   AAPL 2021-07-15  2021-07-15  2560958.5   28.6     25.5  2.477780e+12   \n",
       "346704   AAPL 2021-07-14  2021-07-14  2572139.2   28.7     25.6  2.488960e+12   \n",
       "\n",
       "          pb    pe   ps  \n",
       "346700  35.3  32.0  7.5  \n",
       "346701  34.4  31.2  7.3  \n",
       "346702  35.3  32.0  7.5  \n",
       "346703  35.8  32.5  7.6  \n",
       "346704  36.0  32.6  7.6  "
      ]
     },
     "execution_count": 27,
     "metadata": {},
     "output_type": "execute_result"
    }
   ],
   "source": [
    "daily_data = df_daily[df_daily['ticker'] == ticker]\n",
    "daily_data.head()"
   ]
  },
  {
   "cell_type": "code",
   "execution_count": 28,
   "id": "173a12be",
   "metadata": {
    "ExecuteTime": {
     "end_time": "2021-07-26T19:19:56.101809Z",
     "start_time": "2021-07-26T19:19:56.097721Z"
    }
   },
   "outputs": [
    {
     "data": {
      "text/html": [
       "<div>\n",
       "<style scoped>\n",
       "    .dataframe tbody tr th:only-of-type {\n",
       "        vertical-align: middle;\n",
       "    }\n",
       "\n",
       "    .dataframe tbody tr th {\n",
       "        vertical-align: top;\n",
       "    }\n",
       "\n",
       "    .dataframe thead th {\n",
       "        text-align: right;\n",
       "    }\n",
       "</style>\n",
       "<table border=\"1\" class=\"dataframe\">\n",
       "  <thead>\n",
       "    <tr style=\"text-align: right;\">\n",
       "      <th></th>\n",
       "      <th>marketcap</th>\n",
       "      <th>pe</th>\n",
       "    </tr>\n",
       "  </thead>\n",
       "  <tbody>\n",
       "    <tr>\n",
       "      <th>346700</th>\n",
       "      <td>2.438897e+12</td>\n",
       "      <td>32.0</td>\n",
       "    </tr>\n",
       "    <tr>\n",
       "      <th>346701</th>\n",
       "      <td>2.377153e+12</td>\n",
       "      <td>31.2</td>\n",
       "    </tr>\n",
       "    <tr>\n",
       "      <th>346702</th>\n",
       "      <td>2.442902e+12</td>\n",
       "      <td>32.0</td>\n",
       "    </tr>\n",
       "    <tr>\n",
       "      <th>346703</th>\n",
       "      <td>2.477780e+12</td>\n",
       "      <td>32.5</td>\n",
       "    </tr>\n",
       "    <tr>\n",
       "      <th>346704</th>\n",
       "      <td>2.488960e+12</td>\n",
       "      <td>32.6</td>\n",
       "    </tr>\n",
       "  </tbody>\n",
       "</table>\n",
       "</div>"
      ],
      "text/plain": [
       "           marketcap    pe\n",
       "346700  2.438897e+12  32.0\n",
       "346701  2.377153e+12  31.2\n",
       "346702  2.442902e+12  32.0\n",
       "346703  2.477780e+12  32.5\n",
       "346704  2.488960e+12  32.6"
      ]
     },
     "execution_count": 28,
     "metadata": {},
     "output_type": "execute_result"
    }
   ],
   "source": [
    "daily_data[DAILY_AGG_COLUMNS].head()"
   ]
  },
  {
   "cell_type": "code",
   "execution_count": 29,
   "id": "f2036ffa",
   "metadata": {
    "ExecuteTime": {
     "end_time": "2021-07-26T19:19:56.104882Z",
     "start_time": "2021-07-26T19:19:56.102487Z"
    }
   },
   "outputs": [
    {
     "data": {
      "text/plain": [
       "Index(['ticker', 'date', 'lastupdated', 'ev', 'evebit', 'evebitda',\n",
       "       'marketcap', 'pb', 'pe', 'ps'],\n",
       "      dtype='object')"
      ]
     },
     "execution_count": 29,
     "metadata": {},
     "output_type": "execute_result"
    }
   ],
   "source": [
    "daily_data.keys()"
   ]
  },
  {
   "cell_type": "code",
   "execution_count": 30,
   "id": "de10431d",
   "metadata": {
    "ExecuteTime": {
     "end_time": "2021-07-26T19:19:56.107783Z",
     "start_time": "2021-07-26T19:19:56.105692Z"
    }
   },
   "outputs": [
    {
     "data": {
      "text/plain": [
       "numpy.datetime64('2021-04-29T00:00:00.000000000')"
      ]
     },
     "execution_count": 30,
     "metadata": {},
     "output_type": "execute_result"
    }
   ],
   "source": [
    "curr_date = np.datetime64(df_quarterly['date'].values[0])\n",
    "curr_date"
   ]
  },
  {
   "cell_type": "code",
   "execution_count": 31,
   "id": "ebad5e09",
   "metadata": {
    "ExecuteTime": {
     "end_time": "2021-07-26T19:19:56.114467Z",
     "start_time": "2021-07-26T19:19:56.108469Z"
    }
   },
   "outputs": [
    {
     "data": {
      "text/html": [
       "<div>\n",
       "<style scoped>\n",
       "    .dataframe tbody tr th:only-of-type {\n",
       "        vertical-align: middle;\n",
       "    }\n",
       "\n",
       "    .dataframe tbody tr th {\n",
       "        vertical-align: top;\n",
       "    }\n",
       "\n",
       "    .dataframe thead th {\n",
       "        text-align: right;\n",
       "    }\n",
       "</style>\n",
       "<table border=\"1\" class=\"dataframe\">\n",
       "  <thead>\n",
       "    <tr style=\"text-align: right;\">\n",
       "      <th></th>\n",
       "      <th>ticker</th>\n",
       "      <th>date</th>\n",
       "      <th>lastupdated</th>\n",
       "      <th>ev</th>\n",
       "      <th>evebit</th>\n",
       "      <th>evebitda</th>\n",
       "      <th>marketcap</th>\n",
       "      <th>pb</th>\n",
       "      <th>pe</th>\n",
       "      <th>ps</th>\n",
       "    </tr>\n",
       "  </thead>\n",
       "  <tbody>\n",
       "    <tr>\n",
       "      <th>346757</th>\n",
       "      <td>AAPL</td>\n",
       "      <td>2021-04-28</td>\n",
       "      <td>2021-04-28</td>\n",
       "      <td>2318586.9</td>\n",
       "      <td>31.0</td>\n",
       "      <td>27.1</td>\n",
       "      <td>2.242554e+12</td>\n",
       "      <td>33.9</td>\n",
       "      <td>35.1</td>\n",
       "      <td>7.6</td>\n",
       "    </tr>\n",
       "    <tr>\n",
       "      <th>346758</th>\n",
       "      <td>AAPL</td>\n",
       "      <td>2021-04-27</td>\n",
       "      <td>2021-04-27</td>\n",
       "      <td>2332185.2</td>\n",
       "      <td>31.2</td>\n",
       "      <td>27.2</td>\n",
       "      <td>2.256152e+12</td>\n",
       "      <td>34.1</td>\n",
       "      <td>35.3</td>\n",
       "      <td>7.7</td>\n",
       "    </tr>\n",
       "    <tr>\n",
       "      <th>346759</th>\n",
       "      <td>AAPL</td>\n",
       "      <td>2021-04-26</td>\n",
       "      <td>2021-04-26</td>\n",
       "      <td>2337725.3</td>\n",
       "      <td>31.3</td>\n",
       "      <td>27.3</td>\n",
       "      <td>2.261692e+12</td>\n",
       "      <td>34.2</td>\n",
       "      <td>35.4</td>\n",
       "      <td>7.7</td>\n",
       "    </tr>\n",
       "    <tr>\n",
       "      <th>346760</th>\n",
       "      <td>AAPL</td>\n",
       "      <td>2021-04-23</td>\n",
       "      <td>2021-04-23</td>\n",
       "      <td>2331010.1</td>\n",
       "      <td>31.2</td>\n",
       "      <td>27.2</td>\n",
       "      <td>2.254977e+12</td>\n",
       "      <td>34.1</td>\n",
       "      <td>35.3</td>\n",
       "      <td>7.7</td>\n",
       "    </tr>\n",
       "    <tr>\n",
       "      <th>346761</th>\n",
       "      <td>AAPL</td>\n",
       "      <td>2021-04-22</td>\n",
       "      <td>2021-04-22</td>\n",
       "      <td>2291054.4</td>\n",
       "      <td>30.6</td>\n",
       "      <td>26.7</td>\n",
       "      <td>2.215021e+12</td>\n",
       "      <td>33.4</td>\n",
       "      <td>34.6</td>\n",
       "      <td>7.5</td>\n",
       "    </tr>\n",
       "  </tbody>\n",
       "</table>\n",
       "</div>"
      ],
      "text/plain": [
       "       ticker       date lastupdated         ev evebit evebitda     marketcap  \\\n",
       "346757   AAPL 2021-04-28  2021-04-28  2318586.9   31.0     27.1  2.242554e+12   \n",
       "346758   AAPL 2021-04-27  2021-04-27  2332185.2   31.2     27.2  2.256152e+12   \n",
       "346759   AAPL 2021-04-26  2021-04-26  2337725.3   31.3     27.3  2.261692e+12   \n",
       "346760   AAPL 2021-04-23  2021-04-23  2331010.1   31.2     27.2  2.254977e+12   \n",
       "346761   AAPL 2021-04-22  2021-04-22  2291054.4   30.6     26.7  2.215021e+12   \n",
       "\n",
       "          pb    pe   ps  \n",
       "346757  33.9  35.1  7.6  \n",
       "346758  34.1  35.3  7.7  \n",
       "346759  34.2  35.4  7.7  \n",
       "346760  34.1  35.3  7.7  \n",
       "346761  33.4  34.6  7.5  "
      ]
     },
     "execution_count": 31,
     "metadata": {},
     "output_type": "execute_result"
    }
   ],
   "source": [
    "daily_data = daily_data[daily_data['date'] < curr_date]\n",
    "daily_data.head()"
   ]
  },
  {
   "cell_type": "markdown",
   "id": "d1b10658",
   "metadata": {},
   "source": [
    "### Aggregated daily features for each quarter in the past"
   ]
  },
  {
   "cell_type": "code",
   "execution_count": 32,
   "id": "ae5cccf6",
   "metadata": {
    "ExecuteTime": {
     "end_time": "2021-07-26T19:19:56.118042Z",
     "start_time": "2021-07-26T19:19:56.115243Z"
    }
   },
   "outputs": [],
   "source": [
    "# Window features for each ticker & each quarter\n",
    "\n",
    "def compute_df_daily_p() -> pd.DataFrame:\n",
    "    with ProcessPoolExecutor(max_workers=CPU_COUNT) as executor:\n",
    "        with tqdm(total=len(tickers), mininterval=2) as progress:\n",
    "            futures = []\n",
    "            for ticker in tickers:\n",
    "                f = executor.submit(\n",
    "                    compute_df_daily_ticker,\n",
    "                    df_quarterly_ticker=df_quarterly[df_quarterly['ticker'] == ticker],\n",
    "                    df_daily_ticker=df_daily[df_daily['ticker'] == ticker],\n",
    "                    ticker=ticker,\n",
    "                )\n",
    "                f.add_done_callback(lambda p: progress.update())\n",
    "                futures.append(f)\n",
    "\n",
    "            result: List[Dict[str, Any]] = []\n",
    "            for f in futures:\n",
    "                result += f.result()\n",
    "\n",
    "    # Dont set_index here to merge it with base_features later\n",
    "    df_daily_p = pd.DataFrame(result)\n",
    "    return df_daily_p"
   ]
  },
  {
   "cell_type": "code",
   "execution_count": null,
   "id": "b0b111ee",
   "metadata": {
    "ExecuteTime": {
     "start_time": "2021-07-26T19:18:57.580Z"
    }
   },
   "outputs": [
    {
     "name": "stdout",
     "output_type": "stream",
     "text": [
      "creating new value for variable 'df_daily_p'\n"
     ]
    },
    {
     "name": "stderr",
     "output_type": "stream",
     "text": [
      "  8%|███▌                                        | 122/1492 [00:22<04:11,  5.44it/s]"
     ]
    }
   ],
   "source": [
    "%cache df_daily_p = compute_df_daily_p()"
   ]
  },
  {
   "cell_type": "code",
   "execution_count": null,
   "id": "cffd407d",
   "metadata": {
    "ExecuteTime": {
     "start_time": "2021-07-26T19:18:57.580Z"
    }
   },
   "outputs": [],
   "source": [
    "df_daily_p"
   ]
  },
  {
   "cell_type": "markdown",
   "id": "f69d7174",
   "metadata": {},
   "source": [
    "## Commodity features"
   ]
  },
  {
   "cell_type": "code",
   "execution_count": null,
   "id": "98951f27",
   "metadata": {
    "ExecuteTime": {
     "start_time": "2021-07-26T19:18:57.581Z"
    }
   },
   "outputs": [],
   "source": [
    "df_commodity = quandl_commodity_to_df(base_path=os.path.dirname(os.getcwd()) + '/datasets/quandl/commodity')\n",
    "df_daily.head()"
   ]
  },
  {
   "cell_type": "code",
   "execution_count": null,
   "id": "0d59a0dd",
   "metadata": {},
   "outputs": [],
   "source": []
  },
  {
   "cell_type": "code",
   "execution_count": null,
   "id": "dbb1f151",
   "metadata": {},
   "outputs": [],
   "source": []
  },
  {
   "cell_type": "code",
   "execution_count": null,
   "id": "f9bfdf30",
   "metadata": {},
   "outputs": [],
   "source": []
  },
  {
   "cell_type": "code",
   "execution_count": null,
   "id": "d9ac55c2",
   "metadata": {
    "ExecuteTime": {
     "start_time": "2021-07-26T19:18:57.583Z"
    }
   },
   "outputs": [],
   "source": [
    "# df_commodity = quandl_commodity_to_df(base_path=os.path.dirname(os.getcwd()) + '/datasets/quandl/commodity')\n",
    "# df_daily.head()"
   ]
  },
  {
   "cell_type": "code",
   "execution_count": null,
   "id": "0d96870d",
   "metadata": {},
   "outputs": [],
   "source": []
  },
  {
   "cell_type": "markdown",
   "id": "4e7aaff2",
   "metadata": {},
   "source": [
    "## Entire features list"
   ]
  },
  {
   "cell_type": "code",
   "execution_count": null,
   "id": "5a6005ee",
   "metadata": {
    "ExecuteTime": {
     "start_time": "2021-07-26T19:18:57.584Z"
    }
   },
   "outputs": [],
   "source": [
    "X = pd.merge(df_quarterly_p, df_base_p, on='ticker', how='left')\n",
    "X = X.set_index(['ticker', 'date'])\n",
    "X"
   ]
  },
  {
   "cell_type": "code",
   "execution_count": null,
   "id": "867b2d65",
   "metadata": {},
   "outputs": [],
   "source": []
  },
  {
   "cell_type": "markdown",
   "id": "5d8a8c8d",
   "metadata": {},
   "source": [
    "# Target"
   ]
  },
  {
   "cell_type": "markdown",
   "id": "4fdf8a4e",
   "metadata": {},
   "source": [
    "Current target - normalised company cost in the date of report"
   ]
  },
  {
   "cell_type": "code",
   "execution_count": null,
   "id": "5f986184",
   "metadata": {
    "ExecuteTime": {
     "start_time": "2021-07-26T19:18:57.585Z"
    }
   },
   "outputs": [],
   "source": [
    "y = df_quarterly[['ticker', 'date', 'marketcap']]\n",
    "y = y.set_index(['ticker', 'date'])\n",
    "y = pd.merge(X, y, on=['ticker', 'date'], how='left')['marketcap']\n",
    "y"
   ]
  },
  {
   "cell_type": "code",
   "execution_count": null,
   "id": "819bbee4",
   "metadata": {
    "ExecuteTime": {
     "start_time": "2021-07-26T19:18:57.585Z"
    }
   },
   "outputs": [],
   "source": [
    "y.plot.hist(bins=20)"
   ]
  },
  {
   "cell_type": "code",
   "execution_count": null,
   "id": "f750f55f",
   "metadata": {
    "ExecuteTime": {
     "start_time": "2021-07-26T19:18:57.586Z"
    }
   },
   "outputs": [],
   "source": [
    "mask = (y > 0).values\n",
    "mask"
   ]
  },
  {
   "cell_type": "code",
   "execution_count": null,
   "id": "140e4a95",
   "metadata": {
    "ExecuteTime": {
     "start_time": "2021-07-26T19:18:57.586Z"
    }
   },
   "outputs": [],
   "source": [
    "y_exp = np.log(list(y[mask]))\n",
    "y_exp"
   ]
  },
  {
   "cell_type": "code",
   "execution_count": null,
   "id": "434fa9fb",
   "metadata": {
    "ExecuteTime": {
     "start_time": "2021-07-26T19:18:57.587Z"
    }
   },
   "outputs": [],
   "source": [
    "pd.Series(y_exp).plot.hist(bins=20)"
   ]
  },
  {
   "cell_type": "markdown",
   "id": "44fdb788",
   "metadata": {},
   "source": [
    "# Train model"
   ]
  },
  {
   "cell_type": "code",
   "execution_count": null,
   "id": "e28b189d",
   "metadata": {
    "ExecuteTime": {
     "start_time": "2021-07-26T19:18:57.587Z"
    }
   },
   "outputs": [],
   "source": [
    "base_models = [\n",
    "    LogExpModel(lgbm.sklearn.LGBMRegressor()),\n",
    "    LogExpModel(XGBRegressor())\n",
    "]\n",
    "ensemble = EnsembleModel(base_models=base_models, bagging_fraction=0.7, models_cnt=20)"
   ]
  },
  {
   "cell_type": "code",
   "execution_count": null,
   "id": "710aa08c",
   "metadata": {
    "ExecuteTime": {
     "start_time": "2021-07-26T19:18:57.588Z"
    }
   },
   "outputs": [],
   "source": [
    "ensemble.fit(X, y)"
   ]
  },
  {
   "cell_type": "code",
   "execution_count": null,
   "id": "5944ad51",
   "metadata": {},
   "outputs": [],
   "source": []
  },
  {
   "cell_type": "code",
   "execution_count": null,
   "id": "5affaebb",
   "metadata": {},
   "outputs": [],
   "source": []
  },
  {
   "cell_type": "code",
   "execution_count": null,
   "id": "2418c211",
   "metadata": {},
   "outputs": [],
   "source": []
  },
  {
   "cell_type": "code",
   "execution_count": null,
   "id": "248d2b53",
   "metadata": {},
   "outputs": [],
   "source": []
  },
  {
   "cell_type": "code",
   "execution_count": null,
   "id": "1c005edb",
   "metadata": {},
   "outputs": [],
   "source": []
  },
  {
   "cell_type": "code",
   "execution_count": null,
   "id": "1df36dac",
   "metadata": {
    "ExecuteTime": {
     "start_time": "2021-07-26T19:18:57.590Z"
    }
   },
   "outputs": [],
   "source": [
    "import lightgbm as lgb"
   ]
  },
  {
   "cell_type": "code",
   "execution_count": null,
   "id": "bd8c0749",
   "metadata": {
    "ExecuteTime": {
     "start_time": "2021-07-26T19:18:57.590Z"
    }
   },
   "outputs": [],
   "source": [
    "import numpy as np"
   ]
  },
  {
   "cell_type": "code",
   "execution_count": null,
   "id": "66f222c3",
   "metadata": {
    "ExecuteTime": {
     "start_time": "2021-07-26T19:18:57.591Z"
    }
   },
   "outputs": [],
   "source": [
    "train_data = lgb.Dataset('train.svm.bin')\n",
    "train_data"
   ]
  },
  {
   "cell_type": "code",
   "execution_count": null,
   "id": "cddbaa0e",
   "metadata": {
    "ExecuteTime": {
     "start_time": "2021-07-26T19:18:57.591Z"
    }
   },
   "outputs": [],
   "source": [
    "data = np.random.rand(500, 10)\n",
    "data"
   ]
  },
  {
   "cell_type": "code",
   "execution_count": null,
   "id": "24809e97",
   "metadata": {
    "ExecuteTime": {
     "start_time": "2021-07-26T19:18:57.591Z"
    }
   },
   "outputs": [],
   "source": [
    "label = np.random.randint(2, size=500)  # binary target\n",
    "label"
   ]
  },
  {
   "cell_type": "code",
   "execution_count": null,
   "id": "d94bd603",
   "metadata": {
    "ExecuteTime": {
     "start_time": "2021-07-26T19:18:57.592Z"
    }
   },
   "outputs": [],
   "source": [
    "train_data = lgb.Dataset(data, label=label)"
   ]
  },
  {
   "cell_type": "code",
   "execution_count": null,
   "id": "e31a1464",
   "metadata": {
    "ExecuteTime": {
     "start_time": "2021-07-26T19:18:57.592Z"
    }
   },
   "outputs": [],
   "source": [
    "validation_data = train_data.create_valid('validation.svm')\n",
    "validation_data"
   ]
  },
  {
   "cell_type": "code",
   "execution_count": null,
   "id": "9d63bb83",
   "metadata": {
    "ExecuteTime": {
     "start_time": "2021-07-26T19:18:57.592Z"
    }
   },
   "outputs": [],
   "source": [
    "param = {'num_leaves': 31, 'objective': 'binary'}\n",
    "param['metric'] = 'auc'\n",
    "param['metric'] = ['auc', 'binary_logloss']\n",
    "param"
   ]
  },
  {
   "cell_type": "code",
   "execution_count": null,
   "id": "65a8a142",
   "metadata": {
    "ExecuteTime": {
     "start_time": "2021-07-26T19:18:57.593Z"
    }
   },
   "outputs": [],
   "source": [
    "num_round = 10\n",
    "bst = lgb.train(param, train_data, num_round, valid_sets=[validation_data])"
   ]
  }
 ],
 "metadata": {
  "kernelspec": {
   "display_name": "kaggle",
   "language": "python",
   "name": "kaggle"
  },
  "language_info": {
   "codemirror_mode": {
    "name": "ipython",
    "version": 3
   },
   "file_extension": ".py",
   "mimetype": "text/x-python",
   "name": "python",
   "nbconvert_exporter": "python",
   "pygments_lexer": "ipython3",
   "version": "3.9.6"
  }
 },
 "nbformat": 4,
 "nbformat_minor": 5
}
