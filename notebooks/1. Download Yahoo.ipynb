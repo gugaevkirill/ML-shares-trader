{
 "cells": [
  {
   "cell_type": "code",
   "execution_count": 46,
   "id": "d2242851",
   "metadata": {
    "ExecuteTime": {
     "end_time": "2021-07-20T21:19:00.469705Z",
     "start_time": "2021-07-20T21:19:00.463032Z"
    }
   },
   "outputs": [],
   "source": [
    "import os, sys\n",
    "sys.path.insert(0, os.path.dirname(os.getcwd())) "
   ]
  },
  {
   "cell_type": "code",
   "execution_count": 75,
   "id": "668e4f67",
   "metadata": {
    "ExecuteTime": {
     "end_time": "2021-07-20T21:36:36.199506Z",
     "start_time": "2021-07-20T21:36:36.190885Z"
    }
   },
   "outputs": [],
   "source": [
    "import requests\n",
    "import time\n",
    "from typing import Dict, Any\n",
    "import pandas as pd\n",
    "import numpy as np\n",
    "from functools import reduce"
   ]
  },
  {
   "cell_type": "code",
   "execution_count": 33,
   "id": "264f928a",
   "metadata": {
    "ExecuteTime": {
     "end_time": "2021-07-20T21:02:01.229068Z",
     "start_time": "2021-07-20T21:02:01.222549Z"
    }
   },
   "outputs": [],
   "source": [
    "ticker = 'AAPL'"
   ]
  },
  {
   "cell_type": "markdown",
   "id": "c7614b34",
   "metadata": {},
   "source": [
    "## Base params"
   ]
  },
  {
   "cell_type": "code",
   "execution_count": 40,
   "id": "0a87ad5d",
   "metadata": {
    "ExecuteTime": {
     "end_time": "2021-07-20T21:08:36.367124Z",
     "start_time": "2021-07-20T21:08:36.046126Z"
    }
   },
   "outputs": [
    {
     "name": "stdout",
     "output_type": "stream",
     "text": [
      "https://query2.finance.yahoo.com/v10/finance/quoteSummary/AAPL?modules=summaryProfile,defaultKeyStatistics&corsDomain=finance.yahoo.com\n",
      "{'defaultKeyStatistics': {'maxAge': 1, 'priceHint': {'raw': 2, 'fmt': '2', 'longFmt': '2'}, 'enterpriseValue': {'raw': 2507813421056, 'fmt': '2.51T', 'longFmt': '2,507,813,421,056'}, 'forwardPE': {'raw': 27.368912, 'fmt': '27.37'}, 'profitMargins': {'raw': 0.23451, 'fmt': '23.45%'}, 'floatShares': {'raw': 16670609616, 'fmt': '16.67B', 'longFmt': '16,670,609,616'}, 'sharesOutstanding': {'raw': 16687599616, 'fmt': '16.69B', 'longFmt': '16,687,599,616'}, 'sharesShort': {'raw': 90213531, 'fmt': '90.21M', 'longFmt': '90,213,531'}, 'sharesShortPriorMonth': {'raw': 123121920, 'fmt': '123.12M', 'longFmt': '123,121,920'}, 'sharesShortPreviousMonthDate': {'raw': 1622160000, 'fmt': '2021-05-28'}, 'dateShortInterest': {'raw': 1625011200, 'fmt': '2021-06-30'}, 'sharesPercentSharesOut': {'raw': 0.0054, 'fmt': '0.54%'}, 'heldPercentInsiders': {'raw': 0.00066, 'fmt': '0.07%'}, 'heldPercentInstitutions': {'raw': 0.58561003, 'fmt': '58.56%'}, 'shortRatio': {'raw': 1.24, 'fmt': '1.24'}, 'shortPercentOfFloat': {'raw': 0.0054, 'fmt': '0.54%'}, 'beta': {'raw': 1.20729, 'fmt': '1.21'}, 'impliedSharesOutstanding': {}, 'morningStarOverallRating': {}, 'morningStarRiskRating': {}, 'category': None, 'bookValue': {'raw': 4.146, 'fmt': '4.15'}, 'priceToBook': {'raw': 35.250843, 'fmt': '35.25'}, 'annualReportExpenseRatio': {}, 'ytdReturn': {}, 'beta3Year': {}, 'totalAssets': {}, 'yield': {}, 'fundFamily': None, 'fundInceptionDate': {}, 'legalType': None, 'threeYearAverageReturn': {}, 'fiveYearAverageReturn': {}, 'priceToSalesTrailing12Months': {}, 'lastFiscalYearEnd': {'raw': 1601078400, 'fmt': '2020-09-26'}, 'nextFiscalYearEnd': {'raw': 1664150400, 'fmt': '2022-09-26'}, 'mostRecentQuarter': {'raw': 1616803200, 'fmt': '2021-03-27'}, 'earningsQuarterlyGrowth': {'raw': 1.101, 'fmt': '110.10%'}, 'revenueQuarterlyGrowth': {}, 'netIncomeToCommon': {'raw': 76311003136, 'fmt': '76.31B', 'longFmt': '76,311,003,136'}, 'trailingEps': {'raw': 4.449, 'fmt': '4.45'}, 'forwardEps': {'raw': 5.34, 'fmt': '5.34'}, 'pegRatio': {'raw': 1.53, 'fmt': '1.53'}, 'lastSplitFactor': '4:1', 'lastSplitDate': {'raw': 1598832000, 'fmt': '2020-08-31'}, 'enterpriseToRevenue': {'raw': 7.707, 'fmt': '7.71'}, 'enterpriseToEbitda': {'raw': 25.123, 'fmt': '25.12'}, '52WeekChange': {'raw': 0.46855664, 'fmt': '46.86%'}, 'SandP52WeekChange': {'raw': 0.30736804, 'fmt': '30.74%'}, 'lastDividendValue': {'raw': 0.22, 'fmt': '0.22'}, 'lastDividendDate': {'raw': 1620345600, 'fmt': '2021-05-07'}, 'lastCapGain': {}, 'annualHoldingsTurnover': {}}, 'summaryProfile': {'address1': 'One Apple Park Way', 'city': 'Cupertino', 'state': 'CA', 'zip': '95014', 'country': 'United States', 'phone': '408-996-1010', 'website': 'http://www.apple.com', 'industry': 'Consumer Electronics', 'sector': 'Technology', 'longBusinessSummary': 'Apple Inc. designs, manufactures, and markets smartphones, personal computers, tablets, wearables, and accessories worldwide. It also sells various related services. The company offers iPhone, a line of smartphones; Mac, a line of personal computers; iPad, a line of multi-purpose tablets; and wearables, home, and accessories comprising AirPods, Apple TV, Apple Watch, Beats products, HomePod, iPod touch, and other Apple-branded and third-party accessories. It also provides AppleCare support services; cloud services store services; and operates various platforms, including the App Store, that allow customers to discover and download applications and digital content, such as books, music, video, games, and podcasts. In addition, the company offers various services, such as Apple Arcade, a game subscription service; Apple Music, which offers users a curated listening experience with on-demand radio stations; Apple News+, a subscription news and magazine service; Apple TV+, which offers exclusive original content; Apple Card, a co-branded credit card; and Apple Pay, a cashless payment service, as well as licenses its intellectual property. The company serves consumers, and small and mid-sized businesses; and the education, enterprise, and government markets. It sells and delivers third-party applications for its products through the App Store. The company also sells its products through its retail and online stores, and direct sales force; and third-party cellular network carriers, wholesalers, retailers, and resellers. Apple Inc. was founded in 1977 and is headquartered in Cupertino, California.', 'fullTimeEmployees': 100000, 'companyOfficers': [], 'maxAge': 86400}}\n"
     ]
    }
   ],
   "source": [
    "url = 'https://query{query_id}.finance.yahoo.com/v10/finance/quoteSummary/{ticker}'\\\n",
    "    + '?modules=summaryProfile,defaultKeyStatistics&corsDomain=finance.yahoo.com'\n",
    "url = url.format(query_id=2, ticker=ticker)\n",
    "print(url)\n",
    "\n",
    "headers = {\n",
    "    'user-agent': 'Mozilla/5.0 (Macintosh; Intel Mac OS X 10_15_7) AppleWebKit/537.36 (KHTML, like Gecko) Chrome/91.0.4472.114 Safari/537.36',\n",
    "}\n",
    "\n",
    "r = requests.get(url, headers=headers)\n",
    "if r.status_code != 200:\n",
    "    print(r.status_code, ticker)\n",
    "\n",
    "json_data = r.json()['quoteSummary']['result'][0]\n",
    "print(json_data)"
   ]
  },
  {
   "cell_type": "code",
   "execution_count": 52,
   "id": "f7eb8001",
   "metadata": {
    "ExecuteTime": {
     "end_time": "2021-07-20T21:20:04.676490Z",
     "start_time": "2021-07-20T21:20:04.667214Z"
    }
   },
   "outputs": [],
   "source": [
    "def _parse_raw_values(json_data):\n",
    "    new_row = {}\n",
    "    for key in json_data.keys():\n",
    "        if type(json_data[key]) == dict and 'raw' in json_data[key]:\n",
    "            new_row[key] = json_data[key]['raw']\n",
    "            continue\n",
    "        # if type(json_data[key]) in [list, dict] and len(json_data[key]) == 0:\n",
    "        #     new_row[key] = None\n",
    "        #     continue\n",
    "        new_row[key] = json_data[key]\n",
    "\n",
    "    return new_row"
   ]
  },
  {
   "cell_type": "code",
   "execution_count": 56,
   "id": "5d52672c",
   "metadata": {
    "ExecuteTime": {
     "end_time": "2021-07-20T21:21:04.770751Z",
     "start_time": "2021-07-20T21:21:04.763644Z"
    }
   },
   "outputs": [
    {
     "data": {
      "text/plain": [
       "{'address1': 'One Apple Park Way',\n",
       " 'city': 'Cupertino',\n",
       " 'state': 'CA',\n",
       " 'zip': '95014',\n",
       " 'country': 'United States',\n",
       " 'phone': '408-996-1010',\n",
       " 'website': 'http://www.apple.com',\n",
       " 'industry': 'Consumer Electronics',\n",
       " 'sector': 'Technology',\n",
       " 'longBusinessSummary': 'Apple Inc. designs, manufactures, and markets smartphones, personal computers, tablets, wearables, and accessories worldwide. It also sells various related services. The company offers iPhone, a line of smartphones; Mac, a line of personal computers; iPad, a line of multi-purpose tablets; and wearables, home, and accessories comprising AirPods, Apple TV, Apple Watch, Beats products, HomePod, iPod touch, and other Apple-branded and third-party accessories. It also provides AppleCare support services; cloud services store services; and operates various platforms, including the App Store, that allow customers to discover and download applications and digital content, such as books, music, video, games, and podcasts. In addition, the company offers various services, such as Apple Arcade, a game subscription service; Apple Music, which offers users a curated listening experience with on-demand radio stations; Apple News+, a subscription news and magazine service; Apple TV+, which offers exclusive original content; Apple Card, a co-branded credit card; and Apple Pay, a cashless payment service, as well as licenses its intellectual property. The company serves consumers, and small and mid-sized businesses; and the education, enterprise, and government markets. It sells and delivers third-party applications for its products through the App Store. The company also sells its products through its retail and online stores, and direct sales force; and third-party cellular network carriers, wholesalers, retailers, and resellers. Apple Inc. was founded in 1977 and is headquartered in Cupertino, California.',\n",
       " 'fullTimeEmployees': 100000,\n",
       " 'companyOfficers': [],\n",
       " 'maxAge': 86400}"
      ]
     },
     "execution_count": 56,
     "metadata": {},
     "output_type": "execute_result"
    }
   ],
   "source": [
    "_parse_raw_values(json_data['summaryProfile'])"
   ]
  },
  {
   "cell_type": "code",
   "execution_count": 57,
   "id": "71db2079",
   "metadata": {
    "ExecuteTime": {
     "end_time": "2021-07-20T21:21:08.228153Z",
     "start_time": "2021-07-20T21:21:08.221620Z"
    }
   },
   "outputs": [
    {
     "data": {
      "text/plain": [
       "{'maxAge': 1,\n",
       " 'priceHint': 2,\n",
       " 'enterpriseValue': 2507813421056,\n",
       " 'forwardPE': 27.368912,\n",
       " 'profitMargins': 0.23451,\n",
       " 'floatShares': 16670609616,\n",
       " 'sharesOutstanding': 16687599616,\n",
       " 'sharesShort': 90213531,\n",
       " 'sharesShortPriorMonth': 123121920,\n",
       " 'sharesShortPreviousMonthDate': 1622160000,\n",
       " 'dateShortInterest': 1625011200,\n",
       " 'sharesPercentSharesOut': 0.0054,\n",
       " 'heldPercentInsiders': 0.00066,\n",
       " 'heldPercentInstitutions': 0.58561003,\n",
       " 'shortRatio': 1.24,\n",
       " 'shortPercentOfFloat': 0.0054,\n",
       " 'beta': 1.20729,\n",
       " 'impliedSharesOutstanding': {},\n",
       " 'morningStarOverallRating': {},\n",
       " 'morningStarRiskRating': {},\n",
       " 'category': None,\n",
       " 'bookValue': 4.146,\n",
       " 'priceToBook': 35.250843,\n",
       " 'annualReportExpenseRatio': {},\n",
       " 'ytdReturn': {},\n",
       " 'beta3Year': {},\n",
       " 'totalAssets': {},\n",
       " 'yield': {},\n",
       " 'fundFamily': None,\n",
       " 'fundInceptionDate': {},\n",
       " 'legalType': None,\n",
       " 'threeYearAverageReturn': {},\n",
       " 'fiveYearAverageReturn': {},\n",
       " 'priceToSalesTrailing12Months': {},\n",
       " 'lastFiscalYearEnd': 1601078400,\n",
       " 'nextFiscalYearEnd': 1664150400,\n",
       " 'mostRecentQuarter': 1616803200,\n",
       " 'earningsQuarterlyGrowth': 1.101,\n",
       " 'revenueQuarterlyGrowth': {},\n",
       " 'netIncomeToCommon': 76311003136,\n",
       " 'trailingEps': 4.449,\n",
       " 'forwardEps': 5.34,\n",
       " 'pegRatio': 1.53,\n",
       " 'lastSplitFactor': '4:1',\n",
       " 'lastSplitDate': 1598832000,\n",
       " 'enterpriseToRevenue': 7.707,\n",
       " 'enterpriseToEbitda': 25.123,\n",
       " '52WeekChange': 0.46855664,\n",
       " 'SandP52WeekChange': 0.30736804,\n",
       " 'lastDividendValue': 0.22,\n",
       " 'lastDividendDate': 1620345600,\n",
       " 'lastCapGain': {},\n",
       " 'annualHoldingsTurnover': {}}"
      ]
     },
     "execution_count": 57,
     "metadata": {},
     "output_type": "execute_result"
    }
   ],
   "source": [
    "_parse_raw_values(json_data['defaultKeyStatistics'])"
   ]
  },
  {
   "cell_type": "markdown",
   "id": "ab90370c",
   "metadata": {},
   "source": [
    "## Quarterly params"
   ]
  },
  {
   "cell_type": "code",
   "execution_count": 58,
   "id": "47ef8ab7",
   "metadata": {
    "ExecuteTime": {
     "end_time": "2021-07-20T21:29:17.453976Z",
     "start_time": "2021-07-20T21:29:17.445899Z"
    }
   },
   "outputs": [],
   "source": [
    "DEFAULT_TYPE_LIST = [\n",
    "    'quarterlyTotalCapitalization',\n",
    "    'quarterlyTotalRevenue',\n",
    "    'quarterlyNetIncome',\n",
    "    'quarterlyFreeCashFlow',\n",
    "    'quarterlyTotalAssets',\n",
    "    'quarterlyEBITDA',\n",
    "    'quarterlyNetDebt',\n",
    "    'quarterlyGrossProfit',\n",
    "    'quarterlyWorkingCapital',\n",
    "    'quarterlyCashAndCashEquivalents',\n",
    "    'quarterlyResearchAndDevelopment',\n",
    "    'quarterlyCashDividendsPaid',\n",
    "]"
   ]
  },
  {
   "cell_type": "code",
   "execution_count": 62,
   "id": "30d511d5",
   "metadata": {
    "ExecuteTime": {
     "end_time": "2021-07-20T21:29:37.800852Z",
     "start_time": "2021-07-20T21:29:37.795622Z"
    }
   },
   "outputs": [
    {
     "data": {
      "text/plain": [
       "'https://query2.finance.yahoo.com/ws/fundamentals-timeseries/v1/finance/timeseries/AAPL?lang=en-US&region=US&padTimeSeries=false&type=quarterlyTotalCapitalization,quarterlyTotalRevenue,quarterlyNetIncome,quarterlyFreeCashFlow,quarterlyTotalAssets,quarterlyEBITDA,quarterlyNetDebt,quarterlyGrossProfit,quarterlyWorkingCapital,quarterlyCashAndCashEquivalents,quarterlyResearchAndDevelopment,quarterlyCashDividendsPaid&merge=false&period1=493590046&period2=1626816577&corsDomain=finance.yahoo.com'"
      ]
     },
     "execution_count": 62,
     "metadata": {},
     "output_type": "execute_result"
    }
   ],
   "source": [
    "base_url = ('https://query{query_id}.finance.yahoo.com/ws/fundamentals-timeseries/v1/finance/timeseries'\n",
    "            '/{ticker}?lang=en-US&region=US&padTimeSeries=false&type={type_str}'\n",
    "            '&merge=false&period1=493590046&period2={period2}&corsDomain=finance.yahoo.com')\n",
    "url = base_url.format(query_id=2,\n",
    "                      ticker=ticker, \n",
    "                      type_str=','.join(DEFAULT_TYPE_LIST),\n",
    "                      period2=int(time.time()))\n",
    "\n",
    "url"
   ]
  },
  {
   "cell_type": "code",
   "execution_count": 64,
   "id": "adc50ac0",
   "metadata": {
    "ExecuteTime": {
     "end_time": "2021-07-20T21:30:11.690948Z",
     "start_time": "2021-07-20T21:30:11.412192Z"
    }
   },
   "outputs": [
    {
     "name": "stdout",
     "output_type": "stream",
     "text": [
      "{'timeseries': {'result': [{'meta': {'symbol': ['AAPL'], 'type': ['quarterlyCashDividendsPaid']}, 'timestamp': [1593475200, 1601424000, 1609372800, 1617148800], 'quarterlyCashDividendsPaid': [{'dataId': 26007, 'asOfDate': '2020-06-30', 'periodType': '3M', 'currencyCode': 'USD', 'reportedValue': {'raw': -3656000000.0, 'fmt': '-3.66B'}}, {'dataId': 26007, 'asOfDate': '2020-09-30', 'periodType': '3M', 'currencyCode': 'USD', 'reportedValue': {'raw': -3511000000.0, 'fmt': '-3.51B'}}, {'dataId': 26007, 'asOfDate': '2020-12-31', 'periodType': '3M', 'currencyCode': 'USD', 'reportedValue': {'raw': -3613000000.0, 'fmt': '-3.61B'}}, {'dataId': 26007, 'asOfDate': '2021-03-31', 'periodType': '3M', 'currencyCode': 'USD', 'reportedValue': {'raw': -3447000000.0, 'fmt': '-3.45B'}}]}, {'meta': {'symbol': ['AAPL'], 'type': ['quarterlyFreeCashFlow']}, 'timestamp': [1593475200, 1601424000, 1609372800, 1617148800], 'quarterlyFreeCashFlow': [{'dataId': 26185, 'asOfDate': '2020-06-30', 'periodType': '3M', 'currencyCode': 'USD', 'reportedValue': {'raw': 14706000000.0, 'fmt': '14.71B'}}, {'dataId': 26185, 'asOfDate': '2020-09-30', 'periodType': '3M', 'currencyCode': 'USD', 'reportedValue': {'raw': 18792000000.0, 'fmt': '18.79B'}}, {'dataId': 26185, 'asOfDate': '2020-12-31', 'periodType': '3M', 'currencyCode': 'USD', 'reportedValue': {'raw': 35263000000.0, 'fmt': '35.26B'}}, {'dataId': 26185, 'asOfDate': '2021-03-31', 'periodType': '3M', 'currencyCode': 'USD', 'reportedValue': {'raw': 21712000000.0, 'fmt': '21.71B'}}]}, {'meta': {'symbol': ['AAPL'], 'type': ['quarterlyGrossProfit']}, 'timestamp': [1593475200, 1601424000, 1609372800, 1617148800], 'quarterlyGrossProfit': [{'dataId': 20046, 'asOfDate': '2020-06-30', 'periodType': '3M', 'currencyCode': 'USD', 'reportedValue': {'raw': 22680000000.0, 'fmt': '22.68B'}}, {'dataId': 20046, 'asOfDate': '2020-09-30', 'periodType': '3M', 'currencyCode': 'USD', 'reportedValue': {'raw': 24689000000.0, 'fmt': '24.69B'}}, {'dataId': 20046, 'asOfDate': '2020-12-31', 'periodType': '3M', 'currencyCode': 'USD', 'reportedValue': {'raw': 44328000000.0, 'fmt': '44.33B'}}, {'dataId': 20046, 'asOfDate': '2021-03-31', 'periodType': '3M', 'currencyCode': 'USD', 'reportedValue': {'raw': 38079000000.0, 'fmt': '38.08B'}}]}, {'meta': {'symbol': ['AAPL'], 'type': ['quarterlyTotalAssets']}, 'timestamp': [1593475200, 1601424000, 1609372800, 1617148800], 'quarterlyTotalAssets': [{'dataId': 23220, 'asOfDate': '2020-06-30', 'periodType': '3M', 'currencyCode': 'USD', 'reportedValue': {'raw': 317344000000.0, 'fmt': '317.34B'}}, {'dataId': 23220, 'asOfDate': '2020-09-30', 'periodType': '3M', 'currencyCode': 'USD', 'reportedValue': {'raw': 323888000000.0, 'fmt': '323.89B'}}, {'dataId': 23220, 'asOfDate': '2020-12-31', 'periodType': '3M', 'currencyCode': 'USD', 'reportedValue': {'raw': 354054000000.0, 'fmt': '354.05B'}}, {'dataId': 23220, 'asOfDate': '2021-03-31', 'periodType': '3M', 'currencyCode': 'USD', 'reportedValue': {'raw': 337158000000.0, 'fmt': '337.16B'}}]}, {'meta': {'symbol': ['AAPL'], 'type': ['quarterlyCashAndCashEquivalents']}, 'timestamp': [1593475200, 1601424000, 1609372800, 1617148800], 'quarterlyCashAndCashEquivalents': [{'dataId': 23030, 'asOfDate': '2020-06-30', 'periodType': '3M', 'currencyCode': 'USD', 'reportedValue': {'raw': 33383000000.0, 'fmt': '33.38B'}}, {'dataId': 23030, 'asOfDate': '2020-09-30', 'periodType': '3M', 'currencyCode': 'USD', 'reportedValue': {'raw': 38016000000.0, 'fmt': '38.02B'}}, {'dataId': 23030, 'asOfDate': '2020-12-31', 'periodType': '3M', 'currencyCode': 'USD', 'reportedValue': {'raw': 36010000000.0, 'fmt': '36.01B'}}, {'dataId': 23030, 'asOfDate': '2021-03-31', 'periodType': '3M', 'currencyCode': 'USD', 'reportedValue': {'raw': 38466000000.0, 'fmt': '38.47B'}}]}, {'meta': {'symbol': ['AAPL'], 'type': ['quarterlyResearchAndDevelopment']}, 'timestamp': [1593475200, 1601424000, 1609372800, 1617148800], 'quarterlyResearchAndDevelopment': [{'dataId': 20151, 'asOfDate': '2020-06-30', 'periodType': '3M', 'currencyCode': 'USD', 'reportedValue': {'raw': 4758000000.0, 'fmt': '4.76B'}}, {'dataId': 20151, 'asOfDate': '2020-09-30', 'periodType': '3M', 'currencyCode': 'USD', 'reportedValue': {'raw': 4978000000.0, 'fmt': '4.98B'}}, {'dataId': 20151, 'asOfDate': '2020-12-31', 'periodType': '3M', 'currencyCode': 'USD', 'reportedValue': {'raw': 5163000000.0, 'fmt': '5.16B'}}, {'dataId': 20151, 'asOfDate': '2021-03-31', 'periodType': '3M', 'currencyCode': 'USD', 'reportedValue': {'raw': 5262000000.0, 'fmt': '5.26B'}}]}, {'meta': {'symbol': ['AAPL'], 'type': ['quarterlyTotalCapitalization']}, 'timestamp': [1593475200, 1601424000, 1609372800, 1617148800], 'quarterlyTotalCapitalization': [{'dataId': 23374, 'asOfDate': '2020-06-30', 'periodType': '3M', 'currencyCode': 'USD', 'reportedValue': {'raw': 166330000000.0, 'fmt': '166.33B'}}, {'dataId': 23374, 'asOfDate': '2020-09-30', 'periodType': '3M', 'currencyCode': 'USD', 'reportedValue': {'raw': 164006000000.0, 'fmt': '164.01B'}}, {'dataId': 23374, 'asOfDate': '2020-12-31', 'periodType': '3M', 'currencyCode': 'USD', 'reportedValue': {'raw': 165505000000.0, 'fmt': '165.50B'}}, {'dataId': 23374, 'asOfDate': '2021-03-31', 'periodType': '3M', 'currencyCode': 'USD', 'reportedValue': {'raw': 177820000000.0, 'fmt': '177.82B'}}]}, {'meta': {'symbol': ['AAPL'], 'type': ['quarterlyNetDebt']}, 'timestamp': [1593475200, 1601424000, 1609372800, 1617148800], 'quarterlyNetDebt': [{'dataId': 23531, 'asOfDate': '2020-06-30', 'periodType': '3M', 'currencyCode': 'USD', 'reportedValue': {'raw': 79340000000.0, 'fmt': '79.34B'}}, {'dataId': 23531, 'asOfDate': '2020-09-30', 'periodType': '3M', 'currencyCode': 'USD', 'reportedValue': {'raw': 74420000000.0, 'fmt': '74.42B'}}, {'dataId': 23531, 'asOfDate': '2020-12-31', 'periodType': '3M', 'currencyCode': 'USD', 'reportedValue': {'raw': 76033000000.0, 'fmt': '76.03B'}}, {'dataId': 23531, 'asOfDate': '2021-03-31', 'periodType': '3M', 'currencyCode': 'USD', 'reportedValue': {'raw': 83179000000.0, 'fmt': '83.18B'}}]}, {'meta': {'symbol': ['AAPL'], 'type': ['quarterlyWorkingCapital']}, 'timestamp': [1593475200, 1601424000, 1609372800, 1617148800], 'quarterlyWorkingCapital': [{'dataId': 23385, 'asOfDate': '2020-06-30', 'periodType': '3M', 'currencyCode': 'USD', 'reportedValue': {'raw': 44747000000.0, 'fmt': '44.75B'}}, {'dataId': 23385, 'asOfDate': '2020-09-30', 'periodType': '3M', 'currencyCode': 'USD', 'reportedValue': {'raw': 38321000000.0, 'fmt': '38.32B'}}, {'dataId': 23385, 'asOfDate': '2020-12-31', 'periodType': '3M', 'currencyCode': 'USD', 'reportedValue': {'raw': 21599000000.0, 'fmt': '21.60B'}}, {'dataId': 23385, 'asOfDate': '2021-03-31', 'periodType': '3M', 'currencyCode': 'USD', 'reportedValue': {'raw': 15080000000.0, 'fmt': '15.08B'}}]}, {'meta': {'symbol': ['AAPL'], 'type': ['quarterlyTotalRevenue']}, 'timestamp': [1593475200, 1601424000, 1609372800, 1617148800], 'quarterlyTotalRevenue': [{'dataId': 20100, 'asOfDate': '2020-06-30', 'periodType': '3M', 'currencyCode': 'USD', 'reportedValue': {'raw': 59685000000.0, 'fmt': '59.69B'}}, {'dataId': 20100, 'asOfDate': '2020-09-30', 'periodType': '3M', 'currencyCode': 'USD', 'reportedValue': {'raw': 64698000000.0, 'fmt': '64.70B'}}, {'dataId': 20100, 'asOfDate': '2020-12-31', 'periodType': '3M', 'currencyCode': 'USD', 'reportedValue': {'raw': 111439000000.0, 'fmt': '111.44B'}}, {'dataId': 20100, 'asOfDate': '2021-03-31', 'periodType': '3M', 'currencyCode': 'USD', 'reportedValue': {'raw': 89584000000.0, 'fmt': '89.58B'}}]}, {'meta': {'symbol': ['AAPL'], 'type': ['quarterlyNetIncome']}, 'timestamp': [1593475200, 1601424000, 1609372800, 1617148800], 'quarterlyNetIncome': [{'dataId': 20091, 'asOfDate': '2020-06-30', 'periodType': '3M', 'currencyCode': 'USD', 'reportedValue': {'raw': 11253000000.0, 'fmt': '11.25B'}}, {'dataId': 20091, 'asOfDate': '2020-09-30', 'periodType': '3M', 'currencyCode': 'USD', 'reportedValue': {'raw': 12673000000.0, 'fmt': '12.67B'}}, {'dataId': 20091, 'asOfDate': '2020-12-31', 'periodType': '3M', 'currencyCode': 'USD', 'reportedValue': {'raw': 28755000000.0, 'fmt': '28.75B'}}, {'dataId': 20091, 'asOfDate': '2021-03-31', 'periodType': '3M', 'currencyCode': 'USD', 'reportedValue': {'raw': 23630000000.0, 'fmt': '23.63B'}}]}], 'error': None}}\n"
     ]
    }
   ],
   "source": [
    "r = requests.get(url, headers=headers)\n",
    "if r.status_code != 200:\n",
    "    print(r.status_code, ticker)\n",
    "\n",
    "json_data = r.json()\n",
    "print(json_data)"
   ]
  },
  {
   "cell_type": "code",
   "execution_count": 66,
   "id": "81168a5b",
   "metadata": {
    "ExecuteTime": {
     "end_time": "2021-07-20T21:32:45.845880Z",
     "start_time": "2021-07-20T21:32:45.831582Z"
    }
   },
   "outputs": [
    {
     "data": {
      "text/plain": [
       "{'quarterlyCashDividendsPaid'}"
      ]
     },
     "execution_count": 66,
     "metadata": {},
     "output_type": "execute_result"
    }
   ],
   "source": [
    "data = json_data['timeseries']['result'][0]\n",
    "set(data.keys()).intersection(set(DEFAULT_TYPE_LIST))"
   ]
  },
  {
   "cell_type": "code",
   "execution_count": 67,
   "id": "de2f9753",
   "metadata": {
    "ExecuteTime": {
     "end_time": "2021-07-20T21:33:48.714609Z",
     "start_time": "2021-07-20T21:33:48.704076Z"
    }
   },
   "outputs": [
    {
     "data": {
      "text/plain": [
       "[{'dataId': 26007,\n",
       "  'asOfDate': '2020-06-30',\n",
       "  'periodType': '3M',\n",
       "  'currencyCode': 'USD',\n",
       "  'reportedValue': {'raw': -3656000000.0, 'fmt': '-3.66B'}},\n",
       " {'dataId': 26007,\n",
       "  'asOfDate': '2020-09-30',\n",
       "  'periodType': '3M',\n",
       "  'currencyCode': 'USD',\n",
       "  'reportedValue': {'raw': -3511000000.0, 'fmt': '-3.51B'}},\n",
       " {'dataId': 26007,\n",
       "  'asOfDate': '2020-12-31',\n",
       "  'periodType': '3M',\n",
       "  'currencyCode': 'USD',\n",
       "  'reportedValue': {'raw': -3613000000.0, 'fmt': '-3.61B'}},\n",
       " {'dataId': 26007,\n",
       "  'asOfDate': '2021-03-31',\n",
       "  'periodType': '3M',\n",
       "  'currencyCode': 'USD',\n",
       "  'reportedValue': {'raw': -3447000000.0, 'fmt': '-3.45B'}}]"
      ]
     },
     "execution_count": 67,
     "metadata": {},
     "output_type": "execute_result"
    }
   ],
   "source": [
    "data['quarterlyCashDividendsPaid']"
   ]
  },
  {
   "cell_type": "code",
   "execution_count": 76,
   "id": "48da161e",
   "metadata": {
    "ExecuteTime": {
     "end_time": "2021-07-20T21:36:47.212868Z",
     "start_time": "2021-07-20T21:36:47.197242Z"
    }
   },
   "outputs": [],
   "source": [
    "def _parse_quarterly_json(json_data: Dict[str, Any]):\n",
    "    dfs = []\n",
    "    for data in json_data['timeseries']['result']:\n",
    "        name_set = set(data.keys()).intersection(set(DEFAULT_TYPE_LIST))\n",
    "        if len(name_set) == 1:\n",
    "            name = list(name_set)[0]\n",
    "            new_data = [\n",
    "                {'date': row['asOfDate'], name: row['reportedValue']['raw']}\n",
    "                for row in data[name]\n",
    "            ]\n",
    "            dfs.append(pd.DataFrame(new_data))\n",
    "    if len(dfs) == 0:\n",
    "        return\n",
    "    result = reduce(lambda l, r: pd.merge(l, r, on='date', how='left'), dfs)\n",
    "    for key in set(DEFAULT_TYPE_LIST).difference(set(result.columns)):\n",
    "        result[key] = None\n",
    "\n",
    "    result['date'] = result['date'].astype(np.datetime64)\n",
    "    result = result.sort_values('date', ascending=False)\n",
    "\n",
    "    return result"
   ]
  },
  {
   "cell_type": "code",
   "execution_count": 77,
   "id": "789a9058",
   "metadata": {
    "ExecuteTime": {
     "end_time": "2021-07-20T21:36:48.298723Z",
     "start_time": "2021-07-20T21:36:48.244461Z"
    }
   },
   "outputs": [
    {
     "data": {
      "text/html": [
       "<div>\n",
       "<style scoped>\n",
       "    .dataframe tbody tr th:only-of-type {\n",
       "        vertical-align: middle;\n",
       "    }\n",
       "\n",
       "    .dataframe tbody tr th {\n",
       "        vertical-align: top;\n",
       "    }\n",
       "\n",
       "    .dataframe thead th {\n",
       "        text-align: right;\n",
       "    }\n",
       "</style>\n",
       "<table border=\"1\" class=\"dataframe\">\n",
       "  <thead>\n",
       "    <tr style=\"text-align: right;\">\n",
       "      <th></th>\n",
       "      <th>date</th>\n",
       "      <th>quarterlyCashDividendsPaid</th>\n",
       "      <th>quarterlyFreeCashFlow</th>\n",
       "      <th>quarterlyGrossProfit</th>\n",
       "      <th>quarterlyTotalAssets</th>\n",
       "      <th>quarterlyCashAndCashEquivalents</th>\n",
       "      <th>quarterlyResearchAndDevelopment</th>\n",
       "      <th>quarterlyTotalCapitalization</th>\n",
       "      <th>quarterlyNetDebt</th>\n",
       "      <th>quarterlyWorkingCapital</th>\n",
       "      <th>quarterlyTotalRevenue</th>\n",
       "      <th>quarterlyNetIncome</th>\n",
       "      <th>quarterlyEBITDA</th>\n",
       "    </tr>\n",
       "  </thead>\n",
       "  <tbody>\n",
       "    <tr>\n",
       "      <th>3</th>\n",
       "      <td>2021-03-31</td>\n",
       "      <td>-3.447000e+09</td>\n",
       "      <td>2.171200e+10</td>\n",
       "      <td>3.807900e+10</td>\n",
       "      <td>3.371580e+11</td>\n",
       "      <td>3.846600e+10</td>\n",
       "      <td>5.262000e+09</td>\n",
       "      <td>1.778200e+11</td>\n",
       "      <td>8.317900e+10</td>\n",
       "      <td>1.508000e+10</td>\n",
       "      <td>8.958400e+10</td>\n",
       "      <td>2.363000e+10</td>\n",
       "      <td>None</td>\n",
       "    </tr>\n",
       "    <tr>\n",
       "      <th>2</th>\n",
       "      <td>2020-12-31</td>\n",
       "      <td>-3.613000e+09</td>\n",
       "      <td>3.526300e+10</td>\n",
       "      <td>4.432800e+10</td>\n",
       "      <td>3.540540e+11</td>\n",
       "      <td>3.601000e+10</td>\n",
       "      <td>5.163000e+09</td>\n",
       "      <td>1.655050e+11</td>\n",
       "      <td>7.603300e+10</td>\n",
       "      <td>2.159900e+10</td>\n",
       "      <td>1.114390e+11</td>\n",
       "      <td>2.875500e+10</td>\n",
       "      <td>None</td>\n",
       "    </tr>\n",
       "    <tr>\n",
       "      <th>1</th>\n",
       "      <td>2020-09-30</td>\n",
       "      <td>-3.511000e+09</td>\n",
       "      <td>1.879200e+10</td>\n",
       "      <td>2.468900e+10</td>\n",
       "      <td>3.238880e+11</td>\n",
       "      <td>3.801600e+10</td>\n",
       "      <td>4.978000e+09</td>\n",
       "      <td>1.640060e+11</td>\n",
       "      <td>7.442000e+10</td>\n",
       "      <td>3.832100e+10</td>\n",
       "      <td>6.469800e+10</td>\n",
       "      <td>1.267300e+10</td>\n",
       "      <td>None</td>\n",
       "    </tr>\n",
       "    <tr>\n",
       "      <th>0</th>\n",
       "      <td>2020-06-30</td>\n",
       "      <td>-3.656000e+09</td>\n",
       "      <td>1.470600e+10</td>\n",
       "      <td>2.268000e+10</td>\n",
       "      <td>3.173440e+11</td>\n",
       "      <td>3.338300e+10</td>\n",
       "      <td>4.758000e+09</td>\n",
       "      <td>1.663300e+11</td>\n",
       "      <td>7.934000e+10</td>\n",
       "      <td>4.474700e+10</td>\n",
       "      <td>5.968500e+10</td>\n",
       "      <td>1.125300e+10</td>\n",
       "      <td>None</td>\n",
       "    </tr>\n",
       "  </tbody>\n",
       "</table>\n",
       "</div>"
      ],
      "text/plain": [
       "        date  quarterlyCashDividendsPaid  quarterlyFreeCashFlow  \\\n",
       "3 2021-03-31               -3.447000e+09           2.171200e+10   \n",
       "2 2020-12-31               -3.613000e+09           3.526300e+10   \n",
       "1 2020-09-30               -3.511000e+09           1.879200e+10   \n",
       "0 2020-06-30               -3.656000e+09           1.470600e+10   \n",
       "\n",
       "   quarterlyGrossProfit  quarterlyTotalAssets  \\\n",
       "3          3.807900e+10          3.371580e+11   \n",
       "2          4.432800e+10          3.540540e+11   \n",
       "1          2.468900e+10          3.238880e+11   \n",
       "0          2.268000e+10          3.173440e+11   \n",
       "\n",
       "   quarterlyCashAndCashEquivalents  quarterlyResearchAndDevelopment  \\\n",
       "3                     3.846600e+10                     5.262000e+09   \n",
       "2                     3.601000e+10                     5.163000e+09   \n",
       "1                     3.801600e+10                     4.978000e+09   \n",
       "0                     3.338300e+10                     4.758000e+09   \n",
       "\n",
       "   quarterlyTotalCapitalization  quarterlyNetDebt  quarterlyWorkingCapital  \\\n",
       "3                  1.778200e+11      8.317900e+10             1.508000e+10   \n",
       "2                  1.655050e+11      7.603300e+10             2.159900e+10   \n",
       "1                  1.640060e+11      7.442000e+10             3.832100e+10   \n",
       "0                  1.663300e+11      7.934000e+10             4.474700e+10   \n",
       "\n",
       "   quarterlyTotalRevenue  quarterlyNetIncome quarterlyEBITDA  \n",
       "3           8.958400e+10        2.363000e+10            None  \n",
       "2           1.114390e+11        2.875500e+10            None  \n",
       "1           6.469800e+10        1.267300e+10            None  \n",
       "0           5.968500e+10        1.125300e+10            None  "
      ]
     },
     "execution_count": 77,
     "metadata": {},
     "output_type": "execute_result"
    }
   ],
   "source": [
    "_parse_quarterly_json(json_data)"
   ]
  }
 ],
 "metadata": {
  "kernelspec": {
   "display_name": "Python 3 (ipykernel)",
   "language": "python",
   "name": "python3"
  },
  "language_info": {
   "codemirror_mode": {
    "name": "ipython",
    "version": 3
   },
   "file_extension": ".py",
   "mimetype": "text/x-python",
   "name": "python",
   "nbconvert_exporter": "python",
   "pygments_lexer": "ipython3",
   "version": "3.9.5"
  }
 },
 "nbformat": 4,
 "nbformat_minor": 5
}
